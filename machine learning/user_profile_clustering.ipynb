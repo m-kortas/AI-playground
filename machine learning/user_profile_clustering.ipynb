{
 "cells": [
  {
   "cell_type": "code",
   "execution_count": 26,
   "metadata": {},
   "outputs": [],
   "source": [
    "#!pip install pandas-profiling\n",
    "import matplotlib.pyplot as plt\n",
    "import numpy as np\n",
    "import pandas as pd\n",
    "import seaborn as sns\n",
    "from pandas_profiling import ProfileReport\n",
    "from sklearn import preprocessing\n",
    "from sklearn.cluster import KMeans\n",
    "from sklearn.metrics import silhouette_score"
   ]
  },
  {
   "cell_type": "markdown",
   "metadata": {},
   "source": [
    "# Data preparation"
   ]
  },
  {
   "cell_type": "code",
   "execution_count": 8,
   "metadata": {},
   "outputs": [],
   "source": [
    "users = pd.read_csv(\"users.csv\", delimiter=\",\").drop_duplicates(\n",
    "    subset=\"UserIdentifier\", keep=\"first\"\n",
    ")"
   ]
  },
  {
   "cell_type": "code",
   "execution_count": 10,
   "metadata": {},
   "outputs": [],
   "source": [
    "pers = pd.read_csv(\"personality.csv\", delimiter=\",\").drop_duplicates(\n",
    "    subset=\"UserIdentifier\", keep=\"first\"\n",
    ")"
   ]
  },
  {
   "cell_type": "code",
   "execution_count": 50,
   "metadata": {},
   "outputs": [],
   "source": [
    "df = pd.merge(pers, users, how=\"left\", on=[\"UserIdentifier\"]).drop(\n",
    "    \"UserBrowser\", axis=1\n",
    ")"
   ]
  },
  {
   "cell_type": "code",
   "execution_count": 52,
   "metadata": {},
   "outputs": [
    {
     "data": {
      "text/html": [
       "<div>\n",
       "<style scoped>\n",
       "    .dataframe tbody tr th:only-of-type {\n",
       "        vertical-align: middle;\n",
       "    }\n",
       "\n",
       "    .dataframe tbody tr th {\n",
       "        vertical-align: top;\n",
       "    }\n",
       "\n",
       "    .dataframe thead th {\n",
       "        text-align: right;\n",
       "    }\n",
       "</style>\n",
       "<table border=\"1\" class=\"dataframe\">\n",
       "  <thead>\n",
       "    <tr style=\"text-align: right;\">\n",
       "      <th></th>\n",
       "      <th>A</th>\n",
       "      <th>B</th>\n",
       "      <th>C</th>\n",
       "      <th>D</th>\n",
       "      <th>E</th>\n",
       "      <th>D02</th>\n",
       "      <th>D03</th>\n",
       "      <th>D04</th>\n",
       "      <th>D05</th>\n",
       "      <th>D06</th>\n",
       "      <th>D07</th>\n",
       "    </tr>\n",
       "  </thead>\n",
       "  <tbody>\n",
       "    <tr>\n",
       "      <th>count</th>\n",
       "      <td>1517.000000</td>\n",
       "      <td>1511.000000</td>\n",
       "      <td>1509.000000</td>\n",
       "      <td>1516.000000</td>\n",
       "      <td>1516.000000</td>\n",
       "      <td>1521.000000</td>\n",
       "      <td>1521.000000</td>\n",
       "      <td>1521.000000</td>\n",
       "      <td>1521.000000</td>\n",
       "      <td>1521.000000</td>\n",
       "      <td>1521.000000</td>\n",
       "    </tr>\n",
       "    <tr>\n",
       "      <th>mean</th>\n",
       "      <td>-0.047780</td>\n",
       "      <td>-0.005929</td>\n",
       "      <td>0.026164</td>\n",
       "      <td>-0.017736</td>\n",
       "      <td>0.011151</td>\n",
       "      <td>1980.468113</td>\n",
       "      <td>3.285996</td>\n",
       "      <td>2.866535</td>\n",
       "      <td>2.854701</td>\n",
       "      <td>6.238659</td>\n",
       "      <td>3.163708</td>\n",
       "    </tr>\n",
       "    <tr>\n",
       "      <th>std</th>\n",
       "      <td>1.130173</td>\n",
       "      <td>0.916369</td>\n",
       "      <td>0.733698</td>\n",
       "      <td>0.604658</td>\n",
       "      <td>0.548974</td>\n",
       "      <td>16.194393</td>\n",
       "      <td>0.804016</td>\n",
       "      <td>1.490299</td>\n",
       "      <td>1.447523</td>\n",
       "      <td>1.761124</td>\n",
       "      <td>1.315954</td>\n",
       "    </tr>\n",
       "    <tr>\n",
       "      <th>min</th>\n",
       "      <td>-3.617969</td>\n",
       "      <td>-3.997221</td>\n",
       "      <td>-2.827560</td>\n",
       "      <td>-2.119359</td>\n",
       "      <td>-1.575518</td>\n",
       "      <td>1900.000000</td>\n",
       "      <td>1.000000</td>\n",
       "      <td>1.000000</td>\n",
       "      <td>1.000000</td>\n",
       "      <td>1.000000</td>\n",
       "      <td>1.000000</td>\n",
       "    </tr>\n",
       "    <tr>\n",
       "      <th>25%</th>\n",
       "      <td>-0.810146</td>\n",
       "      <td>-0.612178</td>\n",
       "      <td>-0.474066</td>\n",
       "      <td>-0.436161</td>\n",
       "      <td>-0.370760</td>\n",
       "      <td>1972.000000</td>\n",
       "      <td>3.000000</td>\n",
       "      <td>2.000000</td>\n",
       "      <td>1.000000</td>\n",
       "      <td>5.000000</td>\n",
       "      <td>2.000000</td>\n",
       "    </tr>\n",
       "    <tr>\n",
       "      <th>50%</th>\n",
       "      <td>-0.003628</td>\n",
       "      <td>0.025672</td>\n",
       "      <td>-0.003446</td>\n",
       "      <td>-0.049930</td>\n",
       "      <td>-0.061014</td>\n",
       "      <td>1984.000000</td>\n",
       "      <td>3.000000</td>\n",
       "      <td>2.000000</td>\n",
       "      <td>3.000000</td>\n",
       "      <td>6.000000</td>\n",
       "      <td>3.000000</td>\n",
       "    </tr>\n",
       "    <tr>\n",
       "      <th>75%</th>\n",
       "      <td>0.747494</td>\n",
       "      <td>0.631377</td>\n",
       "      <td>0.499697</td>\n",
       "      <td>0.347349</td>\n",
       "      <td>0.362489</td>\n",
       "      <td>1992.000000</td>\n",
       "      <td>4.000000</td>\n",
       "      <td>4.000000</td>\n",
       "      <td>4.000000</td>\n",
       "      <td>7.000000</td>\n",
       "      <td>4.000000</td>\n",
       "    </tr>\n",
       "    <tr>\n",
       "      <th>max</th>\n",
       "      <td>3.051017</td>\n",
       "      <td>4.913192</td>\n",
       "      <td>2.516733</td>\n",
       "      <td>2.853188</td>\n",
       "      <td>1.901623</td>\n",
       "      <td>2004.000000</td>\n",
       "      <td>5.000000</td>\n",
       "      <td>7.000000</td>\n",
       "      <td>5.000000</td>\n",
       "      <td>10.000000</td>\n",
       "      <td>6.000000</td>\n",
       "    </tr>\n",
       "  </tbody>\n",
       "</table>\n",
       "</div>"
      ],
      "text/plain": [
       "                 A            B            C            D            E  \\\n",
       "count  1517.000000  1511.000000  1509.000000  1516.000000  1516.000000   \n",
       "mean     -0.047780    -0.005929     0.026164    -0.017736     0.011151   \n",
       "std       1.130173     0.916369     0.733698     0.604658     0.548974   \n",
       "min      -3.617969    -3.997221    -2.827560    -2.119359    -1.575518   \n",
       "25%      -0.810146    -0.612178    -0.474066    -0.436161    -0.370760   \n",
       "50%      -0.003628     0.025672    -0.003446    -0.049930    -0.061014   \n",
       "75%       0.747494     0.631377     0.499697     0.347349     0.362489   \n",
       "max       3.051017     4.913192     2.516733     2.853188     1.901623   \n",
       "\n",
       "               D02          D03          D04          D05          D06  \\\n",
       "count  1521.000000  1521.000000  1521.000000  1521.000000  1521.000000   \n",
       "mean   1980.468113     3.285996     2.866535     2.854701     6.238659   \n",
       "std      16.194393     0.804016     1.490299     1.447523     1.761124   \n",
       "min    1900.000000     1.000000     1.000000     1.000000     1.000000   \n",
       "25%    1972.000000     3.000000     2.000000     1.000000     5.000000   \n",
       "50%    1984.000000     3.000000     2.000000     3.000000     6.000000   \n",
       "75%    1992.000000     4.000000     4.000000     4.000000     7.000000   \n",
       "max    2004.000000     5.000000     7.000000     5.000000    10.000000   \n",
       "\n",
       "               D07  \n",
       "count  1521.000000  \n",
       "mean      3.163708  \n",
       "std       1.315954  \n",
       "min       1.000000  \n",
       "25%       2.000000  \n",
       "50%       3.000000  \n",
       "75%       4.000000  \n",
       "max       6.000000  "
      ]
     },
     "execution_count": 52,
     "metadata": {},
     "output_type": "execute_result"
    }
   ],
   "source": [
    "df.describe()"
   ]
  },
  {
   "cell_type": "code",
   "execution_count": 53,
   "metadata": {},
   "outputs": [],
   "source": [
    "df = df.dropna()"
   ]
  },
  {
   "cell_type": "code",
   "execution_count": 56,
   "metadata": {},
   "outputs": [
    {
     "name": "stderr",
     "output_type": "stream",
     "text": [
      "<ipython-input-56-c26b280e8c5f>:1: SettingWithCopyWarning: \n",
      "A value is trying to be set on a copy of a slice from a DataFrame.\n",
      "Try using .loc[row_indexer,col_indexer] = value instead\n",
      "\n",
      "See the caveats in the documentation: https://pandas.pydata.org/pandas-docs/stable/user_guide/indexing.html#returning-a-view-versus-a-copy\n",
      "  df[\"D01\"] = np.where(df[\"D01\"].str.contains(\"M\"), 1, 0)\n"
     ]
    }
   ],
   "source": [
    "df[\"D01\"] = np.where(df[\"D01\"].str.contains(\"M\"), 1, 0)"
   ]
  },
  {
   "cell_type": "code",
   "execution_count": 58,
   "metadata": {},
   "outputs": [],
   "source": [
    "cols_to_num = [\"D02\", \"D03\", \"D04\", \"D05\", \"D06\", \"D07\"]"
   ]
  },
  {
   "cell_type": "code",
   "execution_count": 59,
   "metadata": {},
   "outputs": [
    {
     "name": "stderr",
     "output_type": "stream",
     "text": [
      "/Users/mac/opt/anaconda3/lib/python3.8/site-packages/pandas/core/frame.py:3065: SettingWithCopyWarning: \n",
      "A value is trying to be set on a copy of a slice from a DataFrame.\n",
      "Try using .loc[row_indexer,col_indexer] = value instead\n",
      "\n",
      "See the caveats in the documentation: https://pandas.pydata.org/pandas-docs/stable/user_guide/indexing.html#returning-a-view-versus-a-copy\n",
      "  self[k1] = value[k2]\n"
     ]
    }
   ],
   "source": [
    "df[cols_to_num] = df[cols_to_num].astype(int)"
   ]
  },
  {
   "cell_type": "code",
   "execution_count": 67,
   "metadata": {},
   "outputs": [],
   "source": [
    "df = df.rename(\n",
    "    columns={\n",
    "        \"D01\": \"gender\",\n",
    "        \"D02\": \"birth_year\",\n",
    "        \"D03\": \"education\",\n",
    "        \"D04\": \"empl_status\",\n",
    "        \"D05\": \"town_size\",\n",
    "        \"D06\": \"financial_sit\",\n",
    "        \"D07\": \"household_size\",\n",
    "    }\n",
    ")"
   ]
  },
  {
   "cell_type": "markdown",
   "metadata": {},
   "source": [
    "# Inicial EDA"
   ]
  },
  {
   "cell_type": "code",
   "execution_count": 69,
   "metadata": {},
   "outputs": [
    {
     "data": {
      "application/vnd.jupyter.widget-view+json": {
       "model_id": "b8b1dcaf177a47f6b1521d175b6594d9",
       "version_major": 2,
       "version_minor": 0
      },
      "text/plain": [
       "Summarize dataset:   0%|          | 0/27 [00:00<?, ?it/s]"
      ]
     },
     "metadata": {},
     "output_type": "display_data"
    },
    {
     "data": {
      "application/vnd.jupyter.widget-view+json": {
       "model_id": "478cbd9888934a1e94d14980fdfde5c6",
       "version_major": 2,
       "version_minor": 0
      },
      "text/plain": [
       "Generate report structure:   0%|          | 0/1 [00:00<?, ?it/s]"
      ]
     },
     "metadata": {},
     "output_type": "display_data"
    },
    {
     "data": {
      "application/vnd.jupyter.widget-view+json": {
       "model_id": "22613691be4546ca8136b1bd1161e961",
       "version_major": 2,
       "version_minor": 0
      },
      "text/plain": [
       "Render HTML:   0%|          | 0/1 [00:00<?, ?it/s]"
      ]
     },
     "metadata": {},
     "output_type": "display_data"
    },
    {
     "data": {
      "application/vnd.jupyter.widget-view+json": {
       "model_id": "60e1c9967b98473a9eeb2edfd6670277",
       "version_major": 2,
       "version_minor": 0
      },
      "text/plain": [
       "Export report to file:   0%|          | 0/1 [00:00<?, ?it/s]"
      ]
     },
     "metadata": {},
     "output_type": "display_data"
    }
   ],
   "source": [
    "prof = ProfileReport(df.drop(\"UserIdentifier\", axis=1))\n",
    "prof.to_file(output_file=\"EDA.html\")"
   ]
  },
  {
   "cell_type": "markdown",
   "metadata": {},
   "source": [
    "# Analyzing correlations (demo vs psychotest)"
   ]
  },
  {
   "cell_type": "code",
   "execution_count": 76,
   "metadata": {},
   "outputs": [],
   "source": [
    "data = df.drop(\"UserIdentifier\", axis=1)"
   ]
  },
  {
   "cell_type": "code",
   "execution_count": 81,
   "metadata": {},
   "outputs": [
    {
     "data": {
      "image/png": "[encoded data removed]",
      "text/plain": [
       "<Figure size 864x576 with 2 Axes>"
      ]
     },
     "metadata": {
      "needs_background": "light"
     },
     "output_type": "display_data"
    }
   ],
   "source": [
    "corr = data.corr()\n",
    "plt.figure(figsize=(12, 8))\n",
    "\n",
    "ax = sns.heatmap(\n",
    "    corr,\n",
    "    vmin=-1,\n",
    "    vmax=1,\n",
    "    center=0,\n",
    "    cmap=sns.diverging_palette(20, 220, n=200),\n",
    "    square=True,\n",
    "    annot=True,\n",
    ")\n",
    "ax.set_xticklabels(ax.get_xticklabels(), rotation=45, horizontalalignment=\"right\");"
   ]
  },
  {
   "cell_type": "code",
   "execution_count": 103,
   "metadata": {},
   "outputs": [
    {
     "data": {
      "text/plain": [
       "household_size  household_size    1.000000\n",
       "birth_year      household_size    0.276176\n",
       "A               birth_year        0.222848\n",
       "B               gender            0.210943\n",
       "birth_year      C                 0.173262\n",
       "education       financial_sit     0.158454\n",
       "financial_sit   B                 0.143524\n",
       "education       town_size         0.128515\n",
       "town_size       financial_sit     0.123779\n",
       "E               education         0.119737\n",
       "town_size       E                 0.116363\n",
       "household_size  C                 0.114722\n",
       "gender          D                 0.108278\n",
       "B               birth_year        0.095067\n",
       "birth_year      E                 0.093038\n",
       "dtype: float64"
      ]
     },
     "execution_count": 103,
     "metadata": {},
     "output_type": "execute_result"
    }
   ],
   "source": [
    "corr.unstack().transpose().sort_values(ascending=False).drop_duplicates().head(\n",
    "    15\n",
    ")  # small positive correlation between A and birth_year(so age), B and gender"
   ]
  },
  {
   "cell_type": "code",
   "execution_count": 104,
   "metadata": {},
   "outputs": [
    {
     "data": {
      "text/plain": [
       "town_size      household_size   -0.311957\n",
       "gender         C                -0.296490\n",
       "financial_sit  empl_status      -0.225334\n",
       "empl_status    education        -0.194311\n",
       "financial_sit  A                -0.158781\n",
       "birth_year     gender           -0.155755\n",
       "education      household_size   -0.133377\n",
       "gender         household_size   -0.132539\n",
       "empl_status    gender           -0.128860\n",
       "               town_size        -0.123605\n",
       "               B                -0.113256\n",
       "birth_year     education        -0.099772\n",
       "A              education        -0.090601\n",
       "E              household_size   -0.076048\n",
       "education      D                -0.074718\n",
       "dtype: float64"
      ]
     },
     "execution_count": 104,
     "metadata": {},
     "output_type": "execute_result"
    }
   ],
   "source": [
    "corr.unstack().transpose().sort_values(ascending=True).drop_duplicates().head(\n",
    "    15\n",
    ")  # small negative correlation between gender and C"
   ]
  },
  {
   "cell_type": "markdown",
   "metadata": {},
   "source": [
    "### Conclusion:  age and gender can have small correlation with psychological profile"
   ]
  },
  {
   "cell_type": "markdown",
   "metadata": {},
   "source": [
    "# Clustering psycho data"
   ]
  },
  {
   "cell_type": "code",
   "execution_count": 107,
   "metadata": {},
   "outputs": [],
   "source": [
    "psycho_data = data[[\"A\", \"B\", \"C\", \"D\", \"E\"]]"
   ]
  },
  {
   "cell_type": "code",
   "execution_count": 109,
   "metadata": {},
   "outputs": [],
   "source": [
    "psycho_data_values = psycho_data.values\n",
    "\n",
    "min_max_scaler = preprocessing.MinMaxScaler()\n",
    "\n",
    "x_scaled = min_max_scaler.fit_transform(psycho_data_values)\n",
    "\n",
    "psycho_data_scaled = pd.DataFrame(x_scaled, columns=psycho_data.columns)"
   ]
  },
  {
   "cell_type": "code",
   "execution_count": 118,
   "metadata": {},
   "outputs": [],
   "source": [
    "kmeans = KMeans()"
   ]
  },
  {
   "cell_type": "code",
   "execution_count": 119,
   "metadata": {},
   "outputs": [
    {
     "data": {
      "text/plain": [
       "KMeans()"
      ]
     },
     "execution_count": 119,
     "metadata": {},
     "output_type": "execute_result"
    }
   ],
   "source": [
    "kmeans.fit(psycho_data_scaled)"
   ]
  },
  {
   "cell_type": "code",
   "execution_count": 126,
   "metadata": {},
   "outputs": [
    {
     "name": "stdout",
     "output_type": "stream",
     "text": [
      "n: 2 medium silhouette: 0.18064554574133893\n",
      "n: 3 medium silhouette: 0.1888612167865736\n",
      "n: 4 medium silhouette: 0.17240879033743228\n",
      "n: 5 medium silhouette: 0.1713611391962189\n",
      "n: 6 medium silhouette: 0.1540832542517755\n",
      "n: 7 medium silhouette: 0.14608146969613275\n",
      "n: 8 medium silhouette: 0.1484079397632993\n",
      "n: 9 medium silhouette: 0.14285481631864888\n"
     ]
    }
   ],
   "source": [
    "groups = range(2, 10)\n",
    "\n",
    "score = []\n",
    "\n",
    "for n in groups:\n",
    "    kmeans = KMeans(n_clusters=n, random_state=10)\n",
    "    predicted = kmeans.fit_predict(psycho_data_scaled)\n",
    "    medium_silhouette = silhouette_score(psycho_data_scaled, predicted)\n",
    "    print(\"n:\", n, \"medium silhouette:\", medium_silhouette)\n",
    "    score.append(medium_silhouette)"
   ]
  },
  {
   "cell_type": "code",
   "execution_count": 128,
   "metadata": {},
   "outputs": [
    {
     "data": {
      "text/plain": [
       "<matplotlib.axes._subplots.AxesSubplot at 0x7fbdb6280520>"
      ]
     },
     "execution_count": 128,
     "metadata": {},
     "output_type": "execute_result"
    },
    {
     "data": {
      "image/png": "[encoded data removed]",
      "text/plain": [
       "<Figure size 432x288 with 1 Axes>"
      ]
     },
     "metadata": {
      "needs_background": "light"
     },
     "output_type": "display_data"
    }
   ],
   "source": [
    "pd.Series(score, index=groups).plot(grid=True)"
   ]
  },
  {
   "cell_type": "code",
   "execution_count": 133,
   "metadata": {},
   "outputs": [],
   "source": [
    "kmeans = KMeans(n_clusters=3, random_state=10)\n",
    "data[\"psycho_group\"] = kmeans.fit_predict(psycho_data_scaled)"
   ]
  },
  {
   "cell_type": "code",
   "execution_count": 134,
   "metadata": {},
   "outputs": [
    {
     "data": {
      "text/html": [
       "<div>\n",
       "<style scoped>\n",
       "    .dataframe tbody tr th:only-of-type {\n",
       "        vertical-align: middle;\n",
       "    }\n",
       "\n",
       "    .dataframe tbody tr th {\n",
       "        vertical-align: top;\n",
       "    }\n",
       "\n",
       "    .dataframe thead th {\n",
       "        text-align: right;\n",
       "    }\n",
       "</style>\n",
       "<table border=\"1\" class=\"dataframe\">\n",
       "  <thead>\n",
       "    <tr style=\"text-align: right;\">\n",
       "      <th></th>\n",
       "      <th>A</th>\n",
       "      <th>B</th>\n",
       "      <th>C</th>\n",
       "      <th>D</th>\n",
       "      <th>E</th>\n",
       "      <th>gender</th>\n",
       "      <th>birth_year</th>\n",
       "      <th>education</th>\n",
       "      <th>empl_status</th>\n",
       "      <th>town_size</th>\n",
       "      <th>financial_sit</th>\n",
       "      <th>household_size</th>\n",
       "      <th>predicted</th>\n",
       "      <th>psycho_group</th>\n",
       "    </tr>\n",
       "  </thead>\n",
       "  <tbody>\n",
       "    <tr>\n",
       "      <th>0</th>\n",
       "      <td>0.041197</td>\n",
       "      <td>-0.389188</td>\n",
       "      <td>-0.257404</td>\n",
       "      <td>0.732678</td>\n",
       "      <td>-0.769127</td>\n",
       "      <td>1</td>\n",
       "      <td>1954</td>\n",
       "      <td>3</td>\n",
       "      <td>4</td>\n",
       "      <td>2</td>\n",
       "      <td>6</td>\n",
       "      <td>2</td>\n",
       "      <td>1</td>\n",
       "      <td>1</td>\n",
       "    </tr>\n",
       "    <tr>\n",
       "      <th>1</th>\n",
       "      <td>-0.596461</td>\n",
       "      <td>0.620304</td>\n",
       "      <td>-0.611045</td>\n",
       "      <td>-0.256928</td>\n",
       "      <td>-0.244441</td>\n",
       "      <td>1</td>\n",
       "      <td>1963</td>\n",
       "      <td>2</td>\n",
       "      <td>2</td>\n",
       "      <td>2</td>\n",
       "      <td>7</td>\n",
       "      <td>2</td>\n",
       "      <td>2</td>\n",
       "      <td>0</td>\n",
       "    </tr>\n",
       "    <tr>\n",
       "      <th>2</th>\n",
       "      <td>-1.198166</td>\n",
       "      <td>-0.821102</td>\n",
       "      <td>0.298394</td>\n",
       "      <td>-0.031738</td>\n",
       "      <td>0.821793</td>\n",
       "      <td>0</td>\n",
       "      <td>1975</td>\n",
       "      <td>4</td>\n",
       "      <td>1</td>\n",
       "      <td>4</td>\n",
       "      <td>5</td>\n",
       "      <td>6</td>\n",
       "      <td>2</td>\n",
       "      <td>0</td>\n",
       "    </tr>\n",
       "    <tr>\n",
       "      <th>3</th>\n",
       "      <td>-0.344910</td>\n",
       "      <td>-1.611630</td>\n",
       "      <td>0.220709</td>\n",
       "      <td>-0.323851</td>\n",
       "      <td>-0.127276</td>\n",
       "      <td>0</td>\n",
       "      <td>1991</td>\n",
       "      <td>3</td>\n",
       "      <td>2</td>\n",
       "      <td>4</td>\n",
       "      <td>5</td>\n",
       "      <td>4</td>\n",
       "      <td>2</td>\n",
       "      <td>0</td>\n",
       "    </tr>\n",
       "    <tr>\n",
       "      <th>4</th>\n",
       "      <td>-0.365047</td>\n",
       "      <td>1.094319</td>\n",
       "      <td>-0.187957</td>\n",
       "      <td>-0.254589</td>\n",
       "      <td>0.554409</td>\n",
       "      <td>1</td>\n",
       "      <td>2000</td>\n",
       "      <td>3</td>\n",
       "      <td>3</td>\n",
       "      <td>1</td>\n",
       "      <td>7</td>\n",
       "      <td>6</td>\n",
       "      <td>0</td>\n",
       "      <td>2</td>\n",
       "    </tr>\n",
       "    <tr>\n",
       "      <th>...</th>\n",
       "      <td>...</td>\n",
       "      <td>...</td>\n",
       "      <td>...</td>\n",
       "      <td>...</td>\n",
       "      <td>...</td>\n",
       "      <td>...</td>\n",
       "      <td>...</td>\n",
       "      <td>...</td>\n",
       "      <td>...</td>\n",
       "      <td>...</td>\n",
       "      <td>...</td>\n",
       "      <td>...</td>\n",
       "      <td>...</td>\n",
       "      <td>...</td>\n",
       "    </tr>\n",
       "    <tr>\n",
       "      <th>1515</th>\n",
       "      <td>-0.045188</td>\n",
       "      <td>-0.809351</td>\n",
       "      <td>0.713937</td>\n",
       "      <td>0.965781</td>\n",
       "      <td>-0.734136</td>\n",
       "      <td>0</td>\n",
       "      <td>1964</td>\n",
       "      <td>3</td>\n",
       "      <td>2</td>\n",
       "      <td>3</td>\n",
       "      <td>5</td>\n",
       "      <td>3</td>\n",
       "      <td>1</td>\n",
       "      <td>1</td>\n",
       "    </tr>\n",
       "    <tr>\n",
       "      <th>1517</th>\n",
       "      <td>-0.942098</td>\n",
       "      <td>1.000969</td>\n",
       "      <td>1.175538</td>\n",
       "      <td>-0.432683</td>\n",
       "      <td>-0.184118</td>\n",
       "      <td>0</td>\n",
       "      <td>2001</td>\n",
       "      <td>1</td>\n",
       "      <td>3</td>\n",
       "      <td>1</td>\n",
       "      <td>5</td>\n",
       "      <td>4</td>\n",
       "      <td>2</td>\n",
       "      <td>0</td>\n",
       "    </tr>\n",
       "    <tr>\n",
       "      <th>1518</th>\n",
       "      <td>-0.190014</td>\n",
       "      <td>0.151243</td>\n",
       "      <td>0.723002</td>\n",
       "      <td>0.368135</td>\n",
       "      <td>-0.778032</td>\n",
       "      <td>0</td>\n",
       "      <td>1981</td>\n",
       "      <td>4</td>\n",
       "      <td>2</td>\n",
       "      <td>4</td>\n",
       "      <td>4</td>\n",
       "      <td>4</td>\n",
       "      <td>1</td>\n",
       "      <td>1</td>\n",
       "    </tr>\n",
       "    <tr>\n",
       "      <th>1519</th>\n",
       "      <td>-1.514788</td>\n",
       "      <td>0.864807</td>\n",
       "      <td>0.275557</td>\n",
       "      <td>-0.609713</td>\n",
       "      <td>0.113668</td>\n",
       "      <td>1</td>\n",
       "      <td>1973</td>\n",
       "      <td>3</td>\n",
       "      <td>2</td>\n",
       "      <td>2</td>\n",
       "      <td>8</td>\n",
       "      <td>2</td>\n",
       "      <td>2</td>\n",
       "      <td>0</td>\n",
       "    </tr>\n",
       "    <tr>\n",
       "      <th>1520</th>\n",
       "      <td>0.363628</td>\n",
       "      <td>-1.391027</td>\n",
       "      <td>0.400200</td>\n",
       "      <td>-1.132067</td>\n",
       "      <td>-0.280740</td>\n",
       "      <td>0</td>\n",
       "      <td>1964</td>\n",
       "      <td>3</td>\n",
       "      <td>2</td>\n",
       "      <td>4</td>\n",
       "      <td>5</td>\n",
       "      <td>4</td>\n",
       "      <td>1</td>\n",
       "      <td>1</td>\n",
       "    </tr>\n",
       "  </tbody>\n",
       "</table>\n",
       "<p>1485 rows × 14 columns</p>\n",
       "</div>"
      ],
      "text/plain": [
       "             A         B         C         D         E  gender  birth_year  \\\n",
       "0     0.041197 -0.389188 -0.257404  0.732678 -0.769127       1        1954   \n",
       "1    -0.596461  0.620304 -0.611045 -0.256928 -0.244441       1        1963   \n",
       "2    -1.198166 -0.821102  0.298394 -0.031738  0.821793       0        1975   \n",
       "3    -0.344910 -1.611630  0.220709 -0.323851 -0.127276       0        1991   \n",
       "4    -0.365047  1.094319 -0.187957 -0.254589  0.554409       1        2000   \n",
       "...        ...       ...       ...       ...       ...     ...         ...   \n",
       "1515 -0.045188 -0.809351  0.713937  0.965781 -0.734136       0        1964   \n",
       "1517 -0.942098  1.000969  1.175538 -0.432683 -0.184118       0        2001   \n",
       "1518 -0.190014  0.151243  0.723002  0.368135 -0.778032       0        1981   \n",
       "1519 -1.514788  0.864807  0.275557 -0.609713  0.113668       1        1973   \n",
       "1520  0.363628 -1.391027  0.400200 -1.132067 -0.280740       0        1964   \n",
       "\n",
       "      education  empl_status  town_size  financial_sit  household_size  \\\n",
       "0             3            4          2              6               2   \n",
       "1             2            2          2              7               2   \n",
       "2             4            1          4              5               6   \n",
       "3             3            2          4              5               4   \n",
       "4             3            3          1              7               6   \n",
       "...         ...          ...        ...            ...             ...   \n",
       "1515          3            2          3              5               3   \n",
       "1517          1            3          1              5               4   \n",
       "1518          4            2          4              4               4   \n",
       "1519          3            2          2              8               2   \n",
       "1520          3            2          4              5               4   \n",
       "\n",
       "      predicted  psycho_group  \n",
       "0             1             1  \n",
       "1             2             0  \n",
       "2             2             0  \n",
       "3             2             0  \n",
       "4             0             2  \n",
       "...         ...           ...  \n",
       "1515          1             1  \n",
       "1517          2             0  \n",
       "1518          1             1  \n",
       "1519          2             0  \n",
       "1520          1             1  \n",
       "\n",
       "[1485 rows x 14 columns]"
      ]
     },
     "execution_count": 134,
     "metadata": {},
     "output_type": "execute_result"
    }
   ],
   "source": [
    "data"
   ]
  },
  {
   "cell_type": "markdown",
   "metadata": {},
   "source": [
    "# Analyzing clusters"
   ]
  },
  {
   "cell_type": "code",
   "execution_count": 135,
   "metadata": {},
   "outputs": [],
   "source": [
    "cols_for_final_corr = [\n",
    "    \"gender\",\n",
    "    \"birth_year\",\n",
    "    \"education\",\n",
    "    \"empl_status\",\n",
    "    \"town_size\",\n",
    "    \"financial_sit\",\n",
    "    \"household_size\",\n",
    "    \"psycho_group\",\n",
    "]"
   ]
  },
  {
   "cell_type": "code",
   "execution_count": 136,
   "metadata": {},
   "outputs": [],
   "source": [
    "clustered_demo = data[cols_for_final_corr]"
   ]
  },
  {
   "cell_type": "code",
   "execution_count": 139,
   "metadata": {},
   "outputs": [
    {
     "data": {
      "text/html": [
       "<div>\n",
       "<style scoped>\n",
       "    .dataframe tbody tr th:only-of-type {\n",
       "        vertical-align: middle;\n",
       "    }\n",
       "\n",
       "    .dataframe tbody tr th {\n",
       "        vertical-align: top;\n",
       "    }\n",
       "\n",
       "    .dataframe thead th {\n",
       "        text-align: right;\n",
       "    }\n",
       "</style>\n",
       "<table border=\"1\" class=\"dataframe\">\n",
       "  <thead>\n",
       "    <tr style=\"text-align: right;\">\n",
       "      <th></th>\n",
       "      <th>gender</th>\n",
       "      <th>birth_year</th>\n",
       "      <th>education</th>\n",
       "      <th>empl_status</th>\n",
       "      <th>town_size</th>\n",
       "      <th>financial_sit</th>\n",
       "      <th>household_size</th>\n",
       "      <th>psycho_group</th>\n",
       "    </tr>\n",
       "  </thead>\n",
       "  <tbody>\n",
       "    <tr>\n",
       "      <th>0</th>\n",
       "      <td>1</td>\n",
       "      <td>1954</td>\n",
       "      <td>3</td>\n",
       "      <td>4</td>\n",
       "      <td>2</td>\n",
       "      <td>6</td>\n",
       "      <td>2</td>\n",
       "      <td>1</td>\n",
       "    </tr>\n",
       "    <tr>\n",
       "      <th>1</th>\n",
       "      <td>1</td>\n",
       "      <td>1963</td>\n",
       "      <td>2</td>\n",
       "      <td>2</td>\n",
       "      <td>2</td>\n",
       "      <td>7</td>\n",
       "      <td>2</td>\n",
       "      <td>0</td>\n",
       "    </tr>\n",
       "    <tr>\n",
       "      <th>2</th>\n",
       "      <td>0</td>\n",
       "      <td>1975</td>\n",
       "      <td>4</td>\n",
       "      <td>1</td>\n",
       "      <td>4</td>\n",
       "      <td>5</td>\n",
       "      <td>6</td>\n",
       "      <td>0</td>\n",
       "    </tr>\n",
       "    <tr>\n",
       "      <th>3</th>\n",
       "      <td>0</td>\n",
       "      <td>1991</td>\n",
       "      <td>3</td>\n",
       "      <td>2</td>\n",
       "      <td>4</td>\n",
       "      <td>5</td>\n",
       "      <td>4</td>\n",
       "      <td>0</td>\n",
       "    </tr>\n",
       "    <tr>\n",
       "      <th>4</th>\n",
       "      <td>1</td>\n",
       "      <td>2000</td>\n",
       "      <td>3</td>\n",
       "      <td>3</td>\n",
       "      <td>1</td>\n",
       "      <td>7</td>\n",
       "      <td>6</td>\n",
       "      <td>2</td>\n",
       "    </tr>\n",
       "    <tr>\n",
       "      <th>...</th>\n",
       "      <td>...</td>\n",
       "      <td>...</td>\n",
       "      <td>...</td>\n",
       "      <td>...</td>\n",
       "      <td>...</td>\n",
       "      <td>...</td>\n",
       "      <td>...</td>\n",
       "      <td>...</td>\n",
       "    </tr>\n",
       "    <tr>\n",
       "      <th>1515</th>\n",
       "      <td>0</td>\n",
       "      <td>1964</td>\n",
       "      <td>3</td>\n",
       "      <td>2</td>\n",
       "      <td>3</td>\n",
       "      <td>5</td>\n",
       "      <td>3</td>\n",
       "      <td>1</td>\n",
       "    </tr>\n",
       "    <tr>\n",
       "      <th>1517</th>\n",
       "      <td>0</td>\n",
       "      <td>2001</td>\n",
       "      <td>1</td>\n",
       "      <td>3</td>\n",
       "      <td>1</td>\n",
       "      <td>5</td>\n",
       "      <td>4</td>\n",
       "      <td>0</td>\n",
       "    </tr>\n",
       "    <tr>\n",
       "      <th>1518</th>\n",
       "      <td>0</td>\n",
       "      <td>1981</td>\n",
       "      <td>4</td>\n",
       "      <td>2</td>\n",
       "      <td>4</td>\n",
       "      <td>4</td>\n",
       "      <td>4</td>\n",
       "      <td>1</td>\n",
       "    </tr>\n",
       "    <tr>\n",
       "      <th>1519</th>\n",
       "      <td>1</td>\n",
       "      <td>1973</td>\n",
       "      <td>3</td>\n",
       "      <td>2</td>\n",
       "      <td>2</td>\n",
       "      <td>8</td>\n",
       "      <td>2</td>\n",
       "      <td>0</td>\n",
       "    </tr>\n",
       "    <tr>\n",
       "      <th>1520</th>\n",
       "      <td>0</td>\n",
       "      <td>1964</td>\n",
       "      <td>3</td>\n",
       "      <td>2</td>\n",
       "      <td>4</td>\n",
       "      <td>5</td>\n",
       "      <td>4</td>\n",
       "      <td>1</td>\n",
       "    </tr>\n",
       "  </tbody>\n",
       "</table>\n",
       "<p>1485 rows × 8 columns</p>\n",
       "</div>"
      ],
      "text/plain": [
       "      gender  birth_year  education  empl_status  town_size  financial_sit  \\\n",
       "0          1        1954          3            4          2              6   \n",
       "1          1        1963          2            2          2              7   \n",
       "2          0        1975          4            1          4              5   \n",
       "3          0        1991          3            2          4              5   \n",
       "4          1        2000          3            3          1              7   \n",
       "...      ...         ...        ...          ...        ...            ...   \n",
       "1515       0        1964          3            2          3              5   \n",
       "1517       0        2001          1            3          1              5   \n",
       "1518       0        1981          4            2          4              4   \n",
       "1519       1        1973          3            2          2              8   \n",
       "1520       0        1964          3            2          4              5   \n",
       "\n",
       "      household_size  psycho_group  \n",
       "0                  2             1  \n",
       "1                  2             0  \n",
       "2                  6             0  \n",
       "3                  4             0  \n",
       "4                  6             2  \n",
       "...              ...           ...  \n",
       "1515               3             1  \n",
       "1517               4             0  \n",
       "1518               4             1  \n",
       "1519               2             0  \n",
       "1520               4             1  \n",
       "\n",
       "[1485 rows x 8 columns]"
      ]
     },
     "execution_count": 139,
     "metadata": {},
     "output_type": "execute_result"
    }
   ],
   "source": [
    "clustered_demo"
   ]
  },
  {
   "cell_type": "code",
   "execution_count": null,
   "metadata": {},
   "outputs": [],
   "source": [
    "for n in range(0, 3):\n",
    "    output_file = \"cluster_number_\" + str(n) + \".html\"\n",
    "    temp_df = clustered_demo[clustered_demo[\"psycho_group\"] == n]\n",
    "    temp_prof = ProfileReport(temp_df)\n",
    "    temp_prof.to_file(output_file=output_file)"
   ]
  },
  {
   "cell_type": "markdown",
   "metadata": {},
   "source": [
    "# Clusters: conclusions "
   ]
  },
  {
   "cell_type": "markdown",
   "metadata": {},
   "source": [
    "## Cluster 0"
   ]
  },
  {
   "cell_type": "markdown",
   "metadata": {},
   "source": [
    "Mostly women (67% - more than in the whole population - 63%) <br>\n",
    "Average birth year  1976 (a bit older than average in population - 1980) <br>\n",
    "Mostly 4th and 3rd education level (similar to population)  <br>\n",
    "Employment status (a bit higher than average in the population 2.91 vs 2.86) <br>\n",
    "Town size (mostly 1st and 3rd - similar to the population) <br>\n",
    "Financial situation (a bit higher than average in the population 6.47 vs 6.23) <br>\n",
    "Household type (a bit more common 2nd compared to 3rd in the population, average similar) <br>"
   ]
  },
  {
   "cell_type": "markdown",
   "metadata": {},
   "source": [
    "## Cluster 1"
   ]
  },
  {
   "cell_type": "markdown",
   "metadata": {},
   "source": [
    "Mostly women (the same proportion as in the population) <br>\n",
    "Average birth year  1981 (a bit younger than in the population) <br>\n",
    "Mostly 3rd and 4th education level (lower than in the population)  <br>\n",
    "Employment status (average: 2.88 vs 2.86 - a bit higher than in the population) <br>\n",
    "Town size  (mostly 1st and 3rd - similar to the population)  <br>\n",
    "Financial situation (average 6.03 - lower than in the population) <br>\n",
    "Household type (average 3.26 vs 3.15 - higher) <br>"
   ]
  },
  {
   "cell_type": "markdown",
   "metadata": {},
   "source": [
    "## Cluster 2"
   ]
  },
  {
   "cell_type": "markdown",
   "metadata": {},
   "source": [
    "Mostly women (56% vs 63% in the population - smaller proportion) <br>\n",
    "Average birth year  1984 (younger than in the population - 1980) <br>\n",
    "Mostly 4th and 3rd education level (similar to population)   <br>\n",
    "Employment status (average: 2.75 vs 2.86 in the population - lower) <br>\n",
    "Town size (mostly 1st and 5th - different from the population) <br>\n",
    "Financial situation (average 6.17 - lower than in the population) <br>\n",
    "Household type (average 3.0 - lower than the average) <br>"
   ]
  },
  {
   "cell_type": "markdown",
   "metadata": {},
   "source": [
    "## Clusters comparison"
   ]
  },
  {
   "cell_type": "markdown",
   "metadata": {},
   "source": [
    "## Cluster 0  - the well-off"
   ]
  },
  {
   "cell_type": "markdown",
   "metadata": {},
   "source": [
    "#### Most femenine cluster, the oldest average age, the highest employment status, the best financial situation"
   ]
  },
  {
   "cell_type": "markdown",
   "metadata": {},
   "source": [
    "## Cluster 1 - the poor, traditional"
   ]
  },
  {
   "cell_type": "markdown",
   "metadata": {},
   "source": [
    "#### Lower education level, the worst financial situation, the biggest household size"
   ]
  },
  {
   "cell_type": "markdown",
   "metadata": {},
   "source": [
    "## Cluster 2  - the beginner"
   ]
  },
  {
   "cell_type": "markdown",
   "metadata": {},
   "source": [
    "#### The least femenine, the youngest average age, the lowest employment status, the smallest household size, living also in the big cities"
   ]
  },
  {
   "cell_type": "code",
   "execution_count": null,
   "metadata": {},
   "outputs": [],
   "source": []
  }
 ],
 "metadata": {
  "kernelspec": {
   "display_name": "Python 3 (ipykernel)",
   "language": "python",
   "name": "python3"
  },
  "language_info": {
   "codemirror_mode": {
    "name": "ipython",
    "version": 3
   },
   "file_extension": ".py",
   "mimetype": "text/x-python",
   "name": "python",
   "nbconvert_exporter": "python",
   "pygments_lexer": "ipython3",
   "version": "3.8.5"
  }
 },
 "nbformat": 4,
 "nbformat_minor": 4
}
