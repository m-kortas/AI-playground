{
 "cells": [
  {
   "cell_type": "code",
   "execution_count": 55,
   "metadata": {
    "_cell_guid": "b1076dfc-b9ad-4769-8c92-a6c4dae69d19",
    "_uuid": "8f2839f25d086af736a60e9eeb907d3b93b6e0e5",
    "execution": {
     "iopub.execute_input": "2021-07-13T08:27:02.871981Z",
     "iopub.status.busy": "2021-07-13T08:27:02.871555Z",
     "iopub.status.idle": "2021-07-13T08:27:02.883761Z",
     "shell.execute_reply": "2021-07-13T08:27:02.882639Z",
     "shell.execute_reply.started": "2021-07-13T08:27:02.871945Z"
    }
   },
   "outputs": [
    {
     "name": "stdout",
     "output_type": "stream",
     "text": [
      "/kaggle/input/water-potability/water_potability.csv\n"
     ]
    }
   ],
   "source": [
    "import os\n",
    "import numpy as np  # linear algebra\n",
    "import pandas as pd  # data processing, CSV file I/O (e.g. pd.read_csv)\n",
    "for dirname, _, filenames in os.walk(\"/kaggle/input\"):\n",
    "    for filename in filenames:\n",
    "        print(os.path.join(dirname, filename))\n",
    "\n",
    "import matplotlib.pylab as pl\n",
    "import shap\n",
    "from sklearn.ensemble import RandomForestClassifier\n",
    "from sklearn.metrics import accuracy_score, precision_score\n",
    "from sklearn.model_selection import RandomizedSearchCV, train_test_split\n",
    "\n",
    "# print the JS visualization code to the notebook\n",
    "shap.initjs()"
   ]
  },
  {
   "cell_type": "markdown",
   "metadata": {},
   "source": [
    "## Data Analysis"
   ]
  },
  {
   "cell_type": "code",
   "execution_count": 57,
   "metadata": {
    "execution": {
     "iopub.execute_input": "2021-07-13T08:27:08.450411Z",
     "iopub.status.busy": "2021-07-13T08:27:08.449980Z",
     "iopub.status.idle": "2021-07-13T08:27:08.485478Z",
     "shell.execute_reply": "2021-07-13T08:27:08.484178Z",
     "shell.execute_reply.started": "2021-07-13T08:27:08.450357Z"
    }
   },
   "outputs": [],
   "source": [
    "df = pd.read_csv(\"/kaggle/input/water-potability/water_potability.csv\")"
   ]
  },
  {
   "cell_type": "code",
   "execution_count": 58,
   "metadata": {
    "execution": {
     "iopub.execute_input": "2021-07-13T08:27:10.836945Z",
     "iopub.status.busy": "2021-07-13T08:27:10.836592Z",
     "iopub.status.idle": "2021-07-13T08:27:10.858719Z",
     "shell.execute_reply": "2021-07-13T08:27:10.857483Z",
     "shell.execute_reply.started": "2021-07-13T08:27:10.836914Z"
    }
   },
   "outputs": [
    {
     "data": {
      "text/html": [
       "<div>\n",
       "<style scoped>\n",
       "    .dataframe tbody tr th:only-of-type {\n",
       "        vertical-align: middle;\n",
       "    }\n",
       "\n",
       "    .dataframe tbody tr th {\n",
       "        vertical-align: top;\n",
       "    }\n",
       "\n",
       "    .dataframe thead th {\n",
       "        text-align: right;\n",
       "    }\n",
       "</style>\n",
       "<table border=\"1\" class=\"dataframe\">\n",
       "  <thead>\n",
       "    <tr style=\"text-align: right;\">\n",
       "      <th></th>\n",
       "      <th>ph</th>\n",
       "      <th>Hardness</th>\n",
       "      <th>Solids</th>\n",
       "      <th>Chloramines</th>\n",
       "      <th>Sulfate</th>\n",
       "      <th>Conductivity</th>\n",
       "      <th>Organic_carbon</th>\n",
       "      <th>Trihalomethanes</th>\n",
       "      <th>Turbidity</th>\n",
       "      <th>Potability</th>\n",
       "    </tr>\n",
       "  </thead>\n",
       "  <tbody>\n",
       "    <tr>\n",
       "      <th>0</th>\n",
       "      <td>NaN</td>\n",
       "      <td>204.890455</td>\n",
       "      <td>20791.318981</td>\n",
       "      <td>7.300212</td>\n",
       "      <td>368.516441</td>\n",
       "      <td>564.308654</td>\n",
       "      <td>10.379783</td>\n",
       "      <td>86.990970</td>\n",
       "      <td>2.963135</td>\n",
       "      <td>0</td>\n",
       "    </tr>\n",
       "    <tr>\n",
       "      <th>1</th>\n",
       "      <td>3.716080</td>\n",
       "      <td>129.422921</td>\n",
       "      <td>18630.057858</td>\n",
       "      <td>6.635246</td>\n",
       "      <td>NaN</td>\n",
       "      <td>592.885359</td>\n",
       "      <td>15.180013</td>\n",
       "      <td>56.329076</td>\n",
       "      <td>4.500656</td>\n",
       "      <td>0</td>\n",
       "    </tr>\n",
       "    <tr>\n",
       "      <th>2</th>\n",
       "      <td>8.099124</td>\n",
       "      <td>224.236259</td>\n",
       "      <td>19909.541732</td>\n",
       "      <td>9.275884</td>\n",
       "      <td>NaN</td>\n",
       "      <td>418.606213</td>\n",
       "      <td>16.868637</td>\n",
       "      <td>66.420093</td>\n",
       "      <td>3.055934</td>\n",
       "      <td>0</td>\n",
       "    </tr>\n",
       "    <tr>\n",
       "      <th>3</th>\n",
       "      <td>8.316766</td>\n",
       "      <td>214.373394</td>\n",
       "      <td>22018.417441</td>\n",
       "      <td>8.059332</td>\n",
       "      <td>356.886136</td>\n",
       "      <td>363.266516</td>\n",
       "      <td>18.436524</td>\n",
       "      <td>100.341674</td>\n",
       "      <td>4.628771</td>\n",
       "      <td>0</td>\n",
       "    </tr>\n",
       "    <tr>\n",
       "      <th>4</th>\n",
       "      <td>9.092223</td>\n",
       "      <td>181.101509</td>\n",
       "      <td>17978.986339</td>\n",
       "      <td>6.546600</td>\n",
       "      <td>310.135738</td>\n",
       "      <td>398.410813</td>\n",
       "      <td>11.558279</td>\n",
       "      <td>31.997993</td>\n",
       "      <td>4.075075</td>\n",
       "      <td>0</td>\n",
       "    </tr>\n",
       "    <tr>\n",
       "      <th>5</th>\n",
       "      <td>5.584087</td>\n",
       "      <td>188.313324</td>\n",
       "      <td>28748.687739</td>\n",
       "      <td>7.544869</td>\n",
       "      <td>326.678363</td>\n",
       "      <td>280.467916</td>\n",
       "      <td>8.399735</td>\n",
       "      <td>54.917862</td>\n",
       "      <td>2.559708</td>\n",
       "      <td>0</td>\n",
       "    </tr>\n",
       "    <tr>\n",
       "      <th>6</th>\n",
       "      <td>10.223862</td>\n",
       "      <td>248.071735</td>\n",
       "      <td>28749.716544</td>\n",
       "      <td>7.513408</td>\n",
       "      <td>393.663396</td>\n",
       "      <td>283.651634</td>\n",
       "      <td>13.789695</td>\n",
       "      <td>84.603556</td>\n",
       "      <td>2.672989</td>\n",
       "      <td>0</td>\n",
       "    </tr>\n",
       "    <tr>\n",
       "      <th>7</th>\n",
       "      <td>8.635849</td>\n",
       "      <td>203.361523</td>\n",
       "      <td>13672.091764</td>\n",
       "      <td>4.563009</td>\n",
       "      <td>303.309771</td>\n",
       "      <td>474.607645</td>\n",
       "      <td>12.363817</td>\n",
       "      <td>62.798309</td>\n",
       "      <td>4.401425</td>\n",
       "      <td>0</td>\n",
       "    </tr>\n",
       "    <tr>\n",
       "      <th>8</th>\n",
       "      <td>NaN</td>\n",
       "      <td>118.988579</td>\n",
       "      <td>14285.583854</td>\n",
       "      <td>7.804174</td>\n",
       "      <td>268.646941</td>\n",
       "      <td>389.375566</td>\n",
       "      <td>12.706049</td>\n",
       "      <td>53.928846</td>\n",
       "      <td>3.595017</td>\n",
       "      <td>0</td>\n",
       "    </tr>\n",
       "    <tr>\n",
       "      <th>9</th>\n",
       "      <td>11.180284</td>\n",
       "      <td>227.231469</td>\n",
       "      <td>25484.508491</td>\n",
       "      <td>9.077200</td>\n",
       "      <td>404.041635</td>\n",
       "      <td>563.885481</td>\n",
       "      <td>17.927806</td>\n",
       "      <td>71.976601</td>\n",
       "      <td>4.370562</td>\n",
       "      <td>0</td>\n",
       "    </tr>\n",
       "  </tbody>\n",
       "</table>\n",
       "</div>"
      ],
      "text/plain": [
       "          ph    Hardness        Solids  Chloramines     Sulfate  Conductivity  \\\n",
       "0        NaN  204.890455  20791.318981     7.300212  368.516441    564.308654   \n",
       "1   3.716080  129.422921  18630.057858     6.635246         NaN    592.885359   \n",
       "2   8.099124  224.236259  19909.541732     9.275884         NaN    418.606213   \n",
       "3   8.316766  214.373394  22018.417441     8.059332  356.886136    363.266516   \n",
       "4   9.092223  181.101509  17978.986339     6.546600  310.135738    398.410813   \n",
       "5   5.584087  188.313324  28748.687739     7.544869  326.678363    280.467916   \n",
       "6  10.223862  248.071735  28749.716544     7.513408  393.663396    283.651634   \n",
       "7   8.635849  203.361523  13672.091764     4.563009  303.309771    474.607645   \n",
       "8        NaN  118.988579  14285.583854     7.804174  268.646941    389.375566   \n",
       "9  11.180284  227.231469  25484.508491     9.077200  404.041635    563.885481   \n",
       "\n",
       "   Organic_carbon  Trihalomethanes  Turbidity  Potability  \n",
       "0       10.379783        86.990970   2.963135           0  \n",
       "1       15.180013        56.329076   4.500656           0  \n",
       "2       16.868637        66.420093   3.055934           0  \n",
       "3       18.436524       100.341674   4.628771           0  \n",
       "4       11.558279        31.997993   4.075075           0  \n",
       "5        8.399735        54.917862   2.559708           0  \n",
       "6       13.789695        84.603556   2.672989           0  \n",
       "7       12.363817        62.798309   4.401425           0  \n",
       "8       12.706049        53.928846   3.595017           0  \n",
       "9       17.927806        71.976601   4.370562           0  "
      ]
     },
     "execution_count": 58,
     "metadata": {},
     "output_type": "execute_result"
    }
   ],
   "source": [
    "df.head(10)  # Classification problem: predicting potability"
   ]
  },
  {
   "cell_type": "code",
   "execution_count": 5,
   "metadata": {
    "execution": {
     "iopub.execute_input": "2021-07-13T07:10:25.608937Z",
     "iopub.status.busy": "2021-07-13T07:10:25.608503Z",
     "iopub.status.idle": "2021-07-13T07:10:25.665531Z",
     "shell.execute_reply": "2021-07-13T07:10:25.664250Z",
     "shell.execute_reply.started": "2021-07-13T07:10:25.608898Z"
    }
   },
   "outputs": [
    {
     "data": {
      "text/html": [
       "<div>\n",
       "<style scoped>\n",
       "    .dataframe tbody tr th:only-of-type {\n",
       "        vertical-align: middle;\n",
       "    }\n",
       "\n",
       "    .dataframe tbody tr th {\n",
       "        vertical-align: top;\n",
       "    }\n",
       "\n",
       "    .dataframe thead th {\n",
       "        text-align: right;\n",
       "    }\n",
       "</style>\n",
       "<table border=\"1\" class=\"dataframe\">\n",
       "  <thead>\n",
       "    <tr style=\"text-align: right;\">\n",
       "      <th></th>\n",
       "      <th>ph</th>\n",
       "      <th>Hardness</th>\n",
       "      <th>Solids</th>\n",
       "      <th>Chloramines</th>\n",
       "      <th>Sulfate</th>\n",
       "      <th>Conductivity</th>\n",
       "      <th>Organic_carbon</th>\n",
       "      <th>Trihalomethanes</th>\n",
       "      <th>Turbidity</th>\n",
       "      <th>Potability</th>\n",
       "    </tr>\n",
       "  </thead>\n",
       "  <tbody>\n",
       "    <tr>\n",
       "      <th>count</th>\n",
       "      <td>2785.000000</td>\n",
       "      <td>3276.000000</td>\n",
       "      <td>3276.000000</td>\n",
       "      <td>3276.000000</td>\n",
       "      <td>2495.000000</td>\n",
       "      <td>3276.000000</td>\n",
       "      <td>3276.000000</td>\n",
       "      <td>3114.000000</td>\n",
       "      <td>3276.000000</td>\n",
       "      <td>3276.000000</td>\n",
       "    </tr>\n",
       "    <tr>\n",
       "      <th>mean</th>\n",
       "      <td>7.080795</td>\n",
       "      <td>196.369496</td>\n",
       "      <td>22014.092526</td>\n",
       "      <td>7.122277</td>\n",
       "      <td>333.775777</td>\n",
       "      <td>426.205111</td>\n",
       "      <td>14.284970</td>\n",
       "      <td>66.396293</td>\n",
       "      <td>3.966786</td>\n",
       "      <td>0.390110</td>\n",
       "    </tr>\n",
       "    <tr>\n",
       "      <th>std</th>\n",
       "      <td>1.594320</td>\n",
       "      <td>32.879761</td>\n",
       "      <td>8768.570828</td>\n",
       "      <td>1.583085</td>\n",
       "      <td>41.416840</td>\n",
       "      <td>80.824064</td>\n",
       "      <td>3.308162</td>\n",
       "      <td>16.175008</td>\n",
       "      <td>0.780382</td>\n",
       "      <td>0.487849</td>\n",
       "    </tr>\n",
       "    <tr>\n",
       "      <th>min</th>\n",
       "      <td>0.000000</td>\n",
       "      <td>47.432000</td>\n",
       "      <td>320.942611</td>\n",
       "      <td>0.352000</td>\n",
       "      <td>129.000000</td>\n",
       "      <td>181.483754</td>\n",
       "      <td>2.200000</td>\n",
       "      <td>0.738000</td>\n",
       "      <td>1.450000</td>\n",
       "      <td>0.000000</td>\n",
       "    </tr>\n",
       "    <tr>\n",
       "      <th>25%</th>\n",
       "      <td>6.093092</td>\n",
       "      <td>176.850538</td>\n",
       "      <td>15666.690297</td>\n",
       "      <td>6.127421</td>\n",
       "      <td>307.699498</td>\n",
       "      <td>365.734414</td>\n",
       "      <td>12.065801</td>\n",
       "      <td>55.844536</td>\n",
       "      <td>3.439711</td>\n",
       "      <td>0.000000</td>\n",
       "    </tr>\n",
       "    <tr>\n",
       "      <th>50%</th>\n",
       "      <td>7.036752</td>\n",
       "      <td>196.967627</td>\n",
       "      <td>20927.833607</td>\n",
       "      <td>7.130299</td>\n",
       "      <td>333.073546</td>\n",
       "      <td>421.884968</td>\n",
       "      <td>14.218338</td>\n",
       "      <td>66.622485</td>\n",
       "      <td>3.955028</td>\n",
       "      <td>0.000000</td>\n",
       "    </tr>\n",
       "    <tr>\n",
       "      <th>75%</th>\n",
       "      <td>8.062066</td>\n",
       "      <td>216.667456</td>\n",
       "      <td>27332.762127</td>\n",
       "      <td>8.114887</td>\n",
       "      <td>359.950170</td>\n",
       "      <td>481.792304</td>\n",
       "      <td>16.557652</td>\n",
       "      <td>77.337473</td>\n",
       "      <td>4.500320</td>\n",
       "      <td>1.000000</td>\n",
       "    </tr>\n",
       "    <tr>\n",
       "      <th>max</th>\n",
       "      <td>14.000000</td>\n",
       "      <td>323.124000</td>\n",
       "      <td>61227.196008</td>\n",
       "      <td>13.127000</td>\n",
       "      <td>481.030642</td>\n",
       "      <td>753.342620</td>\n",
       "      <td>28.300000</td>\n",
       "      <td>124.000000</td>\n",
       "      <td>6.739000</td>\n",
       "      <td>1.000000</td>\n",
       "    </tr>\n",
       "  </tbody>\n",
       "</table>\n",
       "</div>"
      ],
      "text/plain": [
       "                ph     Hardness        Solids  Chloramines      Sulfate  \\\n",
       "count  2785.000000  3276.000000   3276.000000  3276.000000  2495.000000   \n",
       "mean      7.080795   196.369496  22014.092526     7.122277   333.775777   \n",
       "std       1.594320    32.879761   8768.570828     1.583085    41.416840   \n",
       "min       0.000000    47.432000    320.942611     0.352000   129.000000   \n",
       "25%       6.093092   176.850538  15666.690297     6.127421   307.699498   \n",
       "50%       7.036752   196.967627  20927.833607     7.130299   333.073546   \n",
       "75%       8.062066   216.667456  27332.762127     8.114887   359.950170   \n",
       "max      14.000000   323.124000  61227.196008    13.127000   481.030642   \n",
       "\n",
       "       Conductivity  Organic_carbon  Trihalomethanes    Turbidity   Potability  \n",
       "count   3276.000000     3276.000000      3114.000000  3276.000000  3276.000000  \n",
       "mean     426.205111       14.284970        66.396293     3.966786     0.390110  \n",
       "std       80.824064        3.308162        16.175008     0.780382     0.487849  \n",
       "min      181.483754        2.200000         0.738000     1.450000     0.000000  \n",
       "25%      365.734414       12.065801        55.844536     3.439711     0.000000  \n",
       "50%      421.884968       14.218338        66.622485     3.955028     0.000000  \n",
       "75%      481.792304       16.557652        77.337473     4.500320     1.000000  \n",
       "max      753.342620       28.300000       124.000000     6.739000     1.000000  "
      ]
     },
     "execution_count": 5,
     "metadata": {},
     "output_type": "execute_result"
    }
   ],
   "source": [
    "df.describe()\n",
    "# ph has 491 (15.0%) missing values\n",
    "# Sulfate has 781 (23.8%) missing values\n",
    "# Trihalomethanes has 162 (4.9%) missing values"
   ]
  },
  {
   "cell_type": "code",
   "execution_count": 6,
   "metadata": {
    "execution": {
     "iopub.execute_input": "2021-07-13T07:11:41.924842Z",
     "iopub.status.busy": "2021-07-13T07:11:41.924413Z",
     "iopub.status.idle": "2021-07-13T07:11:44.552518Z",
     "shell.execute_reply": "2021-07-13T07:11:44.551126Z",
     "shell.execute_reply.started": "2021-07-13T07:11:41.924804Z"
    }
   },
   "outputs": [],
   "source": [
    "from pandas_profiling import ProfileReport"
   ]
  },
  {
   "cell_type": "code",
   "execution_count": 7,
   "metadata": {
    "execution": {
     "iopub.execute_input": "2021-07-13T07:12:15.209272Z",
     "iopub.status.busy": "2021-07-13T07:12:15.208802Z",
     "iopub.status.idle": "2021-07-13T07:12:45.537782Z",
     "shell.execute_reply": "2021-07-13T07:12:45.536191Z",
     "shell.execute_reply.started": "2021-07-13T07:12:15.209225Z"
    }
   },
   "outputs": [
    {
     "data": {
      "application/vnd.jupyter.widget-view+json": {
       "model_id": "f99e0106023041839a8894ce675f3351",
       "version_major": 2,
       "version_minor": 0
      },
      "text/plain": [
       "Summarize dataset:   0%|          | 0/23 [00:00<?, ?it/s]"
      ]
     },
     "metadata": {},
     "output_type": "display_data"
    },
    {
     "data": {
      "application/vnd.jupyter.widget-view+json": {
       "model_id": "ade15e4719364e13b9a300bc6458758a",
       "version_major": 2,
       "version_minor": 0
      },
      "text/plain": [
       "Generate report structure:   0%|          | 0/1 [00:00<?, ?it/s]"
      ]
     },
     "metadata": {},
     "output_type": "display_data"
    },
    {
     "data": {
      "application/vnd.jupyter.widget-view+json": {
       "model_id": "9bda7d922f1645a19434abe4e88a8006",
       "version_major": 2,
       "version_minor": 0
      },
      "text/plain": [
       "Render HTML:   0%|          | 0/1 [00:00<?, ?it/s]"
      ]
     },
     "metadata": {},
     "output_type": "display_data"
    },
    {
     "data": {
      "application/vnd.jupyter.widget-view+json": {
       "model_id": "c78390a5e27145349dc7c45959a71499",
       "version_major": 2,
       "version_minor": 0
      },
      "text/plain": [
       "Export report to file:   0%|          | 0/1 [00:00<?, ?it/s]"
      ]
     },
     "metadata": {},
     "output_type": "display_data"
    }
   ],
   "source": [
    "prof = ProfileReport(df)\n",
    "prof.to_file(output_file=\"EDA.html\")"
   ]
  },
  {
   "cell_type": "markdown",
   "metadata": {},
   "source": [
    "## Data Engineering"
   ]
  },
  {
   "cell_type": "code",
   "execution_count": 8,
   "metadata": {
    "execution": {
     "iopub.execute_input": "2021-07-13T07:18:30.999926Z",
     "iopub.status.busy": "2021-07-13T07:18:30.999507Z",
     "iopub.status.idle": "2021-07-13T07:18:31.007493Z",
     "shell.execute_reply": "2021-07-13T07:18:31.006156Z",
     "shell.execute_reply.started": "2021-07-13T07:18:30.999891Z"
    }
   },
   "outputs": [
    {
     "data": {
      "text/plain": [
       "Index(['ph', 'Hardness', 'Solids', 'Chloramines', 'Sulfate', 'Conductivity',\n",
       "       'Organic_carbon', 'Trihalomethanes', 'Turbidity', 'Potability'],\n",
       "      dtype='object')"
      ]
     },
     "execution_count": 8,
     "metadata": {},
     "output_type": "execute_result"
    }
   ],
   "source": [
    "df.columns"
   ]
  },
  {
   "cell_type": "markdown",
   "metadata": {},
   "source": [
    "## Sulfate Data Engineering"
   ]
  },
  {
   "cell_type": "code",
   "execution_count": 60,
   "metadata": {
    "execution": {
     "iopub.execute_input": "2021-07-13T08:28:33.678858Z",
     "iopub.status.busy": "2021-07-13T08:28:33.678445Z",
     "iopub.status.idle": "2021-07-13T08:28:33.692100Z",
     "shell.execute_reply": "2021-07-13T08:28:33.690859Z",
     "shell.execute_reply.started": "2021-07-13T08:28:33.678821Z"
    }
   },
   "outputs": [],
   "source": [
    "for col in df.loc[:, ~df.columns.isin([\"Sulfate\"])].columns:\n",
    "    df[col] = df[col].fillna(\n",
    "        df[col].mean()\n",
    "    )  # mean imputation for all columns but Sulfate"
   ]
  },
  {
   "cell_type": "code",
   "execution_count": 65,
   "metadata": {
    "execution": {
     "iopub.execute_input": "2021-07-13T08:36:58.229664Z",
     "iopub.status.busy": "2021-07-13T08:36:58.229230Z",
     "iopub.status.idle": "2021-07-13T08:36:58.234993Z",
     "shell.execute_reply": "2021-07-13T08:36:58.233500Z",
     "shell.execute_reply.started": "2021-07-13T08:36:58.229625Z"
    }
   },
   "outputs": [],
   "source": [
    "from sklearn.preprocessing import MinMaxScaler"
   ]
  },
  {
   "cell_type": "code",
   "execution_count": 82,
   "metadata": {
    "execution": {
     "iopub.execute_input": "2021-07-13T08:42:47.278992Z",
     "iopub.status.busy": "2021-07-13T08:42:47.278574Z",
     "iopub.status.idle": "2021-07-13T08:42:47.287943Z",
     "shell.execute_reply": "2021-07-13T08:42:47.286524Z",
     "shell.execute_reply.started": "2021-07-13T08:42:47.278957Z"
    }
   },
   "outputs": [],
   "source": [
    "df_sulf = df[df.Sulfate.notnull()]\n",
    "\n",
    "y = df_sulf[\"Sulfate\"]\n",
    "X = df_sulf.loc[:, ~df.columns.isin([\"Sulfate\", \"Potability\"])]"
   ]
  },
  {
   "cell_type": "code",
   "execution_count": 84,
   "metadata": {
    "execution": {
     "iopub.execute_input": "2021-07-13T08:43:01.735530Z",
     "iopub.status.busy": "2021-07-13T08:43:01.735175Z",
     "iopub.status.idle": "2021-07-13T08:43:01.747134Z",
     "shell.execute_reply": "2021-07-13T08:43:01.746105Z",
     "shell.execute_reply.started": "2021-07-13T08:43:01.735500Z"
    }
   },
   "outputs": [],
   "source": [
    "scaler = MinMaxScaler()\n",
    "X = scaler.fit(X)\n",
    "X = scaler.transform(X)\n",
    "\n",
    "X_train, X_test, y_train, y_test = train_test_split(\n",
    "    X, y, test_size=0.3, random_state=42\n",
    ")"
   ]
  },
  {
   "cell_type": "code",
   "execution_count": 85,
   "metadata": {
    "execution": {
     "iopub.execute_input": "2021-07-13T08:43:05.422787Z",
     "iopub.status.busy": "2021-07-13T08:43:05.422331Z",
     "iopub.status.idle": "2021-07-13T08:43:05.436984Z",
     "shell.execute_reply": "2021-07-13T08:43:05.435691Z",
     "shell.execute_reply.started": "2021-07-13T08:43:05.422750Z"
    }
   },
   "outputs": [
    {
     "data": {
      "text/plain": [
       "KNeighborsRegressor()"
      ]
     },
     "execution_count": 85,
     "metadata": {},
     "output_type": "execute_result"
    }
   ],
   "source": [
    "from sklearn.neighbors import KNeighborsRegressor\n",
    "\n",
    "regressor = KNeighborsRegressor()\n",
    "regressor.fit(X=X_train, y=y_train)"
   ]
  },
  {
   "cell_type": "code",
   "execution_count": 101,
   "metadata": {
    "execution": {
     "iopub.execute_input": "2021-07-13T08:46:47.012464Z",
     "iopub.status.busy": "2021-07-13T08:46:47.012091Z",
     "iopub.status.idle": "2021-07-13T08:46:47.040106Z",
     "shell.execute_reply": "2021-07-13T08:46:47.038976Z",
     "shell.execute_reply.started": "2021-07-13T08:46:47.012430Z"
    }
   },
   "outputs": [],
   "source": [
    "prediction = regressor.predict(X=X_test)"
   ]
  },
  {
   "cell_type": "code",
   "execution_count": 102,
   "metadata": {
    "execution": {
     "iopub.execute_input": "2021-07-13T08:46:50.461933Z",
     "iopub.status.busy": "2021-07-13T08:46:50.461497Z",
     "iopub.status.idle": "2021-07-13T08:46:50.469667Z",
     "shell.execute_reply": "2021-07-13T08:46:50.468151Z",
     "shell.execute_reply.started": "2021-07-13T08:46:50.461888Z"
    }
   },
   "outputs": [],
   "source": [
    "df_Na = df[~df.Sulfate.notnull()]"
   ]
  },
  {
   "cell_type": "code",
   "execution_count": 94,
   "metadata": {
    "execution": {
     "iopub.execute_input": "2021-07-13T08:45:06.291484Z",
     "iopub.status.busy": "2021-07-13T08:45:06.291084Z",
     "iopub.status.idle": "2021-07-13T08:45:06.298000Z",
     "shell.execute_reply": "2021-07-13T08:45:06.296809Z",
     "shell.execute_reply.started": "2021-07-13T08:45:06.291447Z"
    }
   },
   "outputs": [],
   "source": [
    "df_Na2 = df_Na.loc[:, ~df.columns.isin([\"Sulfate\", \"Potability\"])]"
   ]
  },
  {
   "cell_type": "code",
   "execution_count": 95,
   "metadata": {
    "execution": {
     "iopub.execute_input": "2021-07-13T08:45:12.977598Z",
     "iopub.status.busy": "2021-07-13T08:45:12.977228Z",
     "iopub.status.idle": "2021-07-13T08:45:12.986836Z",
     "shell.execute_reply": "2021-07-13T08:45:12.985914Z",
     "shell.execute_reply.started": "2021-07-13T08:45:12.977568Z"
    }
   },
   "outputs": [],
   "source": [
    "df_Na2 = scaler.transform(df_Na2)"
   ]
  },
  {
   "cell_type": "code",
   "execution_count": 96,
   "metadata": {
    "execution": {
     "iopub.execute_input": "2021-07-13T08:45:18.108414Z",
     "iopub.status.busy": "2021-07-13T08:45:18.107779Z",
     "iopub.status.idle": "2021-07-13T08:45:18.135392Z",
     "shell.execute_reply": "2021-07-13T08:45:18.134518Z",
     "shell.execute_reply.started": "2021-07-13T08:45:18.108374Z"
    }
   },
   "outputs": [],
   "source": [
    "filled_NA = regressor.predict(X=df_Na2)"
   ]
  },
  {
   "cell_type": "code",
   "execution_count": 103,
   "metadata": {
    "execution": {
     "iopub.execute_input": "2021-07-13T08:46:57.163607Z",
     "iopub.status.busy": "2021-07-13T08:46:57.162785Z",
     "iopub.status.idle": "2021-07-13T08:46:57.171636Z",
     "shell.execute_reply": "2021-07-13T08:46:57.169903Z",
     "shell.execute_reply.started": "2021-07-13T08:46:57.163556Z"
    }
   },
   "outputs": [],
   "source": [
    "df_Na = df_Na.loc[:, ~df.columns.isin([\"Sulfate\"])]"
   ]
  },
  {
   "cell_type": "code",
   "execution_count": 105,
   "metadata": {
    "execution": {
     "iopub.execute_input": "2021-07-13T08:48:26.727427Z",
     "iopub.status.busy": "2021-07-13T08:48:26.727052Z",
     "iopub.status.idle": "2021-07-13T08:48:26.732943Z",
     "shell.execute_reply": "2021-07-13T08:48:26.731865Z",
     "shell.execute_reply.started": "2021-07-13T08:48:26.727393Z"
    }
   },
   "outputs": [],
   "source": [
    "df_Na[\"Sulfate\"] = filled_NA"
   ]
  },
  {
   "cell_type": "code",
   "execution_count": 107,
   "metadata": {
    "execution": {
     "iopub.execute_input": "2021-07-13T08:50:12.115194Z",
     "iopub.status.busy": "2021-07-13T08:50:12.114766Z",
     "iopub.status.idle": "2021-07-13T08:50:12.124637Z",
     "shell.execute_reply": "2021-07-13T08:50:12.123611Z",
     "shell.execute_reply.started": "2021-07-13T08:50:12.115156Z"
    }
   },
   "outputs": [],
   "source": [
    "df_Na  # filled NA\n",
    "df_nonNa = df[df.Sulfate.notnull()]  # notnull\n",
    "final_df = pd.concat([df_Na, df_nonNa])"
   ]
  },
  {
   "cell_type": "code",
   "execution_count": 109,
   "metadata": {
    "execution": {
     "iopub.execute_input": "2021-07-13T08:50:28.180319Z",
     "iopub.status.busy": "2021-07-13T08:50:28.179796Z",
     "iopub.status.idle": "2021-07-13T08:50:28.223347Z",
     "shell.execute_reply": "2021-07-13T08:50:28.222511Z",
     "shell.execute_reply.started": "2021-07-13T08:50:28.180285Z"
    }
   },
   "outputs": [
    {
     "data": {
      "text/html": [
       "<div>\n",
       "<style scoped>\n",
       "    .dataframe tbody tr th:only-of-type {\n",
       "        vertical-align: middle;\n",
       "    }\n",
       "\n",
       "    .dataframe tbody tr th {\n",
       "        vertical-align: top;\n",
       "    }\n",
       "\n",
       "    .dataframe thead th {\n",
       "        text-align: right;\n",
       "    }\n",
       "</style>\n",
       "<table border=\"1\" class=\"dataframe\">\n",
       "  <thead>\n",
       "    <tr style=\"text-align: right;\">\n",
       "      <th></th>\n",
       "      <th>ph</th>\n",
       "      <th>Hardness</th>\n",
       "      <th>Solids</th>\n",
       "      <th>Chloramines</th>\n",
       "      <th>Conductivity</th>\n",
       "      <th>Organic_carbon</th>\n",
       "      <th>Trihalomethanes</th>\n",
       "      <th>Turbidity</th>\n",
       "      <th>Potability</th>\n",
       "      <th>Sulfate</th>\n",
       "    </tr>\n",
       "  </thead>\n",
       "  <tbody>\n",
       "    <tr>\n",
       "      <th>count</th>\n",
       "      <td>3276.000000</td>\n",
       "      <td>3276.000000</td>\n",
       "      <td>3276.000000</td>\n",
       "      <td>3276.000000</td>\n",
       "      <td>3276.000000</td>\n",
       "      <td>3276.000000</td>\n",
       "      <td>3276.000000</td>\n",
       "      <td>3276.000000</td>\n",
       "      <td>3276.000000</td>\n",
       "      <td>3276.000000</td>\n",
       "    </tr>\n",
       "    <tr>\n",
       "      <th>mean</th>\n",
       "      <td>7.080795</td>\n",
       "      <td>196.369496</td>\n",
       "      <td>22014.092526</td>\n",
       "      <td>7.122277</td>\n",
       "      <td>426.205111</td>\n",
       "      <td>14.284970</td>\n",
       "      <td>66.396293</td>\n",
       "      <td>3.966786</td>\n",
       "      <td>0.390110</td>\n",
       "      <td>334.949238</td>\n",
       "    </tr>\n",
       "    <tr>\n",
       "      <th>std</th>\n",
       "      <td>1.469956</td>\n",
       "      <td>32.879761</td>\n",
       "      <td>8768.570828</td>\n",
       "      <td>1.583085</td>\n",
       "      <td>80.824064</td>\n",
       "      <td>3.308162</td>\n",
       "      <td>15.769881</td>\n",
       "      <td>0.780382</td>\n",
       "      <td>0.487849</td>\n",
       "      <td>37.565385</td>\n",
       "    </tr>\n",
       "    <tr>\n",
       "      <th>min</th>\n",
       "      <td>0.000000</td>\n",
       "      <td>47.432000</td>\n",
       "      <td>320.942611</td>\n",
       "      <td>0.352000</td>\n",
       "      <td>181.483754</td>\n",
       "      <td>2.200000</td>\n",
       "      <td>0.738000</td>\n",
       "      <td>1.450000</td>\n",
       "      <td>0.000000</td>\n",
       "      <td>129.000000</td>\n",
       "    </tr>\n",
       "    <tr>\n",
       "      <th>25%</th>\n",
       "      <td>6.277673</td>\n",
       "      <td>176.850538</td>\n",
       "      <td>15666.690297</td>\n",
       "      <td>6.127421</td>\n",
       "      <td>365.734414</td>\n",
       "      <td>12.065801</td>\n",
       "      <td>56.647656</td>\n",
       "      <td>3.439711</td>\n",
       "      <td>0.000000</td>\n",
       "      <td>314.078838</td>\n",
       "    </tr>\n",
       "    <tr>\n",
       "      <th>50%</th>\n",
       "      <td>7.080795</td>\n",
       "      <td>196.967627</td>\n",
       "      <td>20927.833607</td>\n",
       "      <td>7.130299</td>\n",
       "      <td>421.884968</td>\n",
       "      <td>14.218338</td>\n",
       "      <td>66.396293</td>\n",
       "      <td>3.955028</td>\n",
       "      <td>0.000000</td>\n",
       "      <td>334.881478</td>\n",
       "    </tr>\n",
       "    <tr>\n",
       "      <th>75%</th>\n",
       "      <td>7.870050</td>\n",
       "      <td>216.667456</td>\n",
       "      <td>27332.762127</td>\n",
       "      <td>8.114887</td>\n",
       "      <td>481.792304</td>\n",
       "      <td>16.557652</td>\n",
       "      <td>76.666609</td>\n",
       "      <td>4.500320</td>\n",
       "      <td>1.000000</td>\n",
       "      <td>356.308113</td>\n",
       "    </tr>\n",
       "    <tr>\n",
       "      <th>max</th>\n",
       "      <td>14.000000</td>\n",
       "      <td>323.124000</td>\n",
       "      <td>61227.196008</td>\n",
       "      <td>13.127000</td>\n",
       "      <td>753.342620</td>\n",
       "      <td>28.300000</td>\n",
       "      <td>124.000000</td>\n",
       "      <td>6.739000</td>\n",
       "      <td>1.000000</td>\n",
       "      <td>481.030642</td>\n",
       "    </tr>\n",
       "  </tbody>\n",
       "</table>\n",
       "</div>"
      ],
      "text/plain": [
       "                ph     Hardness        Solids  Chloramines  Conductivity  \\\n",
       "count  3276.000000  3276.000000   3276.000000  3276.000000   3276.000000   \n",
       "mean      7.080795   196.369496  22014.092526     7.122277    426.205111   \n",
       "std       1.469956    32.879761   8768.570828     1.583085     80.824064   \n",
       "min       0.000000    47.432000    320.942611     0.352000    181.483754   \n",
       "25%       6.277673   176.850538  15666.690297     6.127421    365.734414   \n",
       "50%       7.080795   196.967627  20927.833607     7.130299    421.884968   \n",
       "75%       7.870050   216.667456  27332.762127     8.114887    481.792304   \n",
       "max      14.000000   323.124000  61227.196008    13.127000    753.342620   \n",
       "\n",
       "       Organic_carbon  Trihalomethanes    Turbidity   Potability      Sulfate  \n",
       "count     3276.000000      3276.000000  3276.000000  3276.000000  3276.000000  \n",
       "mean        14.284970        66.396293     3.966786     0.390110   334.949238  \n",
       "std          3.308162        15.769881     0.780382     0.487849    37.565385  \n",
       "min          2.200000         0.738000     1.450000     0.000000   129.000000  \n",
       "25%         12.065801        56.647656     3.439711     0.000000   314.078838  \n",
       "50%         14.218338        66.396293     3.955028     0.000000   334.881478  \n",
       "75%         16.557652        76.666609     4.500320     1.000000   356.308113  \n",
       "max         28.300000       124.000000     6.739000     1.000000   481.030642  "
      ]
     },
     "execution_count": 109,
     "metadata": {},
     "output_type": "execute_result"
    }
   ],
   "source": [
    "final_df.describe()"
   ]
  },
  {
   "cell_type": "code",
   "execution_count": 110,
   "metadata": {
    "execution": {
     "iopub.execute_input": "2021-07-13T08:50:49.206563Z",
     "iopub.status.busy": "2021-07-13T08:50:49.206210Z",
     "iopub.status.idle": "2021-07-13T08:50:49.210862Z",
     "shell.execute_reply": "2021-07-13T08:50:49.209822Z",
     "shell.execute_reply.started": "2021-07-13T08:50:49.206534Z"
    }
   },
   "outputs": [],
   "source": [
    "df = final_df"
   ]
  },
  {
   "cell_type": "markdown",
   "metadata": {},
   "source": [
    "## Splitting data"
   ]
  },
  {
   "cell_type": "code",
   "execution_count": 111,
   "metadata": {
    "execution": {
     "iopub.execute_input": "2021-07-13T08:50:56.185260Z",
     "iopub.status.busy": "2021-07-13T08:50:56.184826Z",
     "iopub.status.idle": "2021-07-13T08:50:56.195771Z",
     "shell.execute_reply": "2021-07-13T08:50:56.194531Z",
     "shell.execute_reply.started": "2021-07-13T08:50:56.185225Z"
    }
   },
   "outputs": [],
   "source": [
    "y = df[\"Potability\"]\n",
    "X = df.loc[:, ~df.columns.isin([\"Potability\"])]\n",
    "\n",
    "X_train, X_test, y_train, y_test = train_test_split(\n",
    "    X, y, test_size=0.3, random_state=42\n",
    ")"
   ]
  },
  {
   "cell_type": "markdown",
   "metadata": {},
   "source": [
    "## Grid Search "
   ]
  },
  {
   "cell_type": "code",
   "execution_count": 112,
   "metadata": {
    "execution": {
     "iopub.execute_input": "2021-07-13T08:51:00.110506Z",
     "iopub.status.busy": "2021-07-13T08:51:00.110120Z",
     "iopub.status.idle": "2021-07-13T08:51:00.118436Z",
     "shell.execute_reply": "2021-07-13T08:51:00.117216Z",
     "shell.execute_reply.started": "2021-07-13T08:51:00.110473Z"
    }
   },
   "outputs": [
    {
     "name": "stdout",
     "output_type": "stream",
     "text": [
      "{'n_estimators': [200, 400, 600], 'max_features': ['auto', 'sqrt'], 'max_depth': [10, 20, 30], 'min_samples_split': [2, 5, 10], 'min_samples_leaf': [1, 2, 4], 'bootstrap': [True, False]}\n"
     ]
    }
   ],
   "source": [
    "n_estimators = [200, 400, 600]\n",
    "max_features = [\"auto\", \"sqrt\"]\n",
    "max_depth = [10, 20, 30]\n",
    "min_samples_split = [2, 5, 10]\n",
    "min_samples_leaf = [1, 2, 4]\n",
    "bootstrap = [True, False]\n",
    "\n",
    "parameters = {\n",
    "    \"n_estimators\": n_estimators,\n",
    "    \"max_features\": max_features,\n",
    "    \"max_depth\": max_depth,\n",
    "    \"min_samples_split\": min_samples_split,\n",
    "    \"min_samples_leaf\": min_samples_leaf,\n",
    "    \"bootstrap\": bootstrap,\n",
    "}\n",
    "\n",
    "print(parameters)"
   ]
  },
  {
   "cell_type": "code",
   "execution_count": 114,
   "metadata": {
    "execution": {
     "iopub.execute_input": "2021-07-13T08:51:06.222169Z",
     "iopub.status.busy": "2021-07-13T08:51:06.221741Z",
     "iopub.status.idle": "2021-07-13T08:51:06.230530Z",
     "shell.execute_reply": "2021-07-13T08:51:06.229277Z",
     "shell.execute_reply.started": "2021-07-13T08:51:06.222132Z"
    }
   },
   "outputs": [],
   "source": [
    "rf = RandomForestClassifier()\n",
    "rf_random = RandomizedSearchCV(\n",
    "    estimator=rf,\n",
    "    param_distributions=parameters,\n",
    "    n_iter=100,\n",
    "    cv=3,\n",
    "    verbose=2,\n",
    "    random_state=42,\n",
    "    n_jobs=-1,\n",
    ")\n",
    "# searching for the best parameters"
   ]
  },
  {
   "cell_type": "code",
   "execution_count": 115,
   "metadata": {
    "execution": {
     "iopub.execute_input": "2021-07-13T08:51:08.566353Z",
     "iopub.status.busy": "2021-07-13T08:51:08.565738Z",
     "iopub.status.idle": "2021-07-13T08:56:02.639578Z",
     "shell.execute_reply": "2021-07-13T08:56:02.638082Z",
     "shell.execute_reply.started": "2021-07-13T08:51:08.566306Z"
    }
   },
   "outputs": [
    {
     "name": "stdout",
     "output_type": "stream",
     "text": [
      "Fitting 3 folds for each of 100 candidates, totalling 300 fits\n"
     ]
    },
    {
     "name": "stderr",
     "output_type": "stream",
     "text": [
      "[Parallel(n_jobs=-1)]: Using backend LokyBackend with 4 concurrent workers.\n",
      "[Parallel(n_jobs=-1)]: Done  33 tasks      | elapsed:   31.1s\n",
      "[Parallel(n_jobs=-1)]: Done 154 tasks      | elapsed:  2.4min\n",
      "[Parallel(n_jobs=-1)]: Done 300 out of 300 | elapsed:  4.8min finished\n"
     ]
    },
    {
     "data": {
      "text/plain": [
       "RandomizedSearchCV(cv=3, estimator=RandomForestClassifier(), n_iter=100,\n",
       "                   n_jobs=-1,\n",
       "                   param_distributions={'bootstrap': [True, False],\n",
       "                                        'max_depth': [10, 20, 30],\n",
       "                                        'max_features': ['auto', 'sqrt'],\n",
       "                                        'min_samples_leaf': [1, 2, 4],\n",
       "                                        'min_samples_split': [2, 5, 10],\n",
       "                                        'n_estimators': [200, 400, 600]},\n",
       "                   random_state=42, verbose=2)"
      ]
     },
     "execution_count": 115,
     "metadata": {},
     "output_type": "execute_result"
    }
   ],
   "source": [
    "rf_random.fit(X=X_train, y=y_train)"
   ]
  },
  {
   "cell_type": "code",
   "execution_count": 116,
   "metadata": {
    "execution": {
     "iopub.execute_input": "2021-07-13T08:56:02.642483Z",
     "iopub.status.busy": "2021-07-13T08:56:02.641992Z",
     "iopub.status.idle": "2021-07-13T08:56:02.650219Z",
     "shell.execute_reply": "2021-07-13T08:56:02.648988Z",
     "shell.execute_reply.started": "2021-07-13T08:56:02.642430Z"
    }
   },
   "outputs": [
    {
     "data": {
      "text/plain": [
       "{'n_estimators': 400,\n",
       " 'min_samples_split': 2,\n",
       " 'min_samples_leaf': 1,\n",
       " 'max_features': 'auto',\n",
       " 'max_depth': 20,\n",
       " 'bootstrap': True}"
      ]
     },
     "execution_count": 116,
     "metadata": {},
     "output_type": "execute_result"
    }
   ],
   "source": [
    "rf_random.best_params_"
   ]
  },
  {
   "cell_type": "code",
   "execution_count": 117,
   "metadata": {
    "execution": {
     "iopub.execute_input": "2021-07-13T08:56:02.652751Z",
     "iopub.status.busy": "2021-07-13T08:56:02.652404Z",
     "iopub.status.idle": "2021-07-13T08:56:02.669803Z",
     "shell.execute_reply": "2021-07-13T08:56:02.668428Z",
     "shell.execute_reply.started": "2021-07-13T08:56:02.652699Z"
    }
   },
   "outputs": [
    {
     "data": {
      "text/plain": [
       "RandomForestClassifier(max_depth=20, n_estimators=400)"
      ]
     },
     "execution_count": 117,
     "metadata": {},
     "output_type": "execute_result"
    }
   ],
   "source": [
    "rf_random.best_estimator_"
   ]
  },
  {
   "cell_type": "code",
   "execution_count": 118,
   "metadata": {
    "execution": {
     "iopub.execute_input": "2021-07-13T08:56:02.674324Z",
     "iopub.status.busy": "2021-07-13T08:56:02.673942Z",
     "iopub.status.idle": "2021-07-13T08:56:02.682261Z",
     "shell.execute_reply": "2021-07-13T08:56:02.681268Z",
     "shell.execute_reply.started": "2021-07-13T08:56:02.674290Z"
    }
   },
   "outputs": [],
   "source": [
    "best_random = rf_random.best_estimator_"
   ]
  },
  {
   "cell_type": "code",
   "execution_count": 119,
   "metadata": {
    "execution": {
     "iopub.execute_input": "2021-07-13T08:56:02.684199Z",
     "iopub.status.busy": "2021-07-13T08:56:02.683872Z",
     "iopub.status.idle": "2021-07-13T08:56:02.701332Z",
     "shell.execute_reply": "2021-07-13T08:56:02.699831Z",
     "shell.execute_reply.started": "2021-07-13T08:56:02.684167Z"
    }
   },
   "outputs": [
    {
     "data": {
      "text/plain": [
       "RandomForestClassifier(max_depth=20, n_estimators=400)"
      ]
     },
     "execution_count": 119,
     "metadata": {},
     "output_type": "execute_result"
    }
   ],
   "source": [
    "best_random"
   ]
  },
  {
   "cell_type": "code",
   "execution_count": 120,
   "metadata": {
    "execution": {
     "iopub.execute_input": "2021-07-13T08:56:02.703485Z",
     "iopub.status.busy": "2021-07-13T08:56:02.703056Z",
     "iopub.status.idle": "2021-07-13T08:56:02.829802Z",
     "shell.execute_reply": "2021-07-13T08:56:02.828328Z",
     "shell.execute_reply.started": "2021-07-13T08:56:02.703440Z"
    }
   },
   "outputs": [],
   "source": [
    "prediction = best_random.predict(X_test)"
   ]
  },
  {
   "cell_type": "code",
   "execution_count": 121,
   "metadata": {
    "execution": {
     "iopub.execute_input": "2021-07-13T08:56:02.831900Z",
     "iopub.status.busy": "2021-07-13T08:56:02.831445Z",
     "iopub.status.idle": "2021-07-13T08:56:02.838581Z",
     "shell.execute_reply": "2021-07-13T08:56:02.837454Z",
     "shell.execute_reply.started": "2021-07-13T08:56:02.831854Z"
    }
   },
   "outputs": [],
   "source": [
    "results = pd.DataFrame({\"y_test\": y_test, \"y_pred\": prediction}, index=y_test.index)"
   ]
  },
  {
   "cell_type": "code",
   "execution_count": 122,
   "metadata": {
    "execution": {
     "iopub.execute_input": "2021-07-13T08:56:02.842074Z",
     "iopub.status.busy": "2021-07-13T08:56:02.841460Z",
     "iopub.status.idle": "2021-07-13T08:56:02.860828Z",
     "shell.execute_reply": "2021-07-13T08:56:02.859822Z",
     "shell.execute_reply.started": "2021-07-13T08:56:02.842012Z"
    }
   },
   "outputs": [
    {
     "data": {
      "text/html": [
       "<div>\n",
       "<style scoped>\n",
       "    .dataframe tbody tr th:only-of-type {\n",
       "        vertical-align: middle;\n",
       "    }\n",
       "\n",
       "    .dataframe tbody tr th {\n",
       "        vertical-align: top;\n",
       "    }\n",
       "\n",
       "    .dataframe thead th {\n",
       "        text-align: right;\n",
       "    }\n",
       "</style>\n",
       "<table border=\"1\" class=\"dataframe\">\n",
       "  <thead>\n",
       "    <tr style=\"text-align: right;\">\n",
       "      <th></th>\n",
       "      <th>y_test</th>\n",
       "      <th>y_pred</th>\n",
       "    </tr>\n",
       "  </thead>\n",
       "  <tbody>\n",
       "    <tr>\n",
       "      <th>2833</th>\n",
       "      <td>1</td>\n",
       "      <td>0</td>\n",
       "    </tr>\n",
       "    <tr>\n",
       "      <th>2608</th>\n",
       "      <td>0</td>\n",
       "      <td>0</td>\n",
       "    </tr>\n",
       "    <tr>\n",
       "      <th>1129</th>\n",
       "      <td>1</td>\n",
       "      <td>0</td>\n",
       "    </tr>\n",
       "    <tr>\n",
       "      <th>293</th>\n",
       "      <td>1</td>\n",
       "      <td>0</td>\n",
       "    </tr>\n",
       "    <tr>\n",
       "      <th>1659</th>\n",
       "      <td>0</td>\n",
       "      <td>0</td>\n",
       "    </tr>\n",
       "  </tbody>\n",
       "</table>\n",
       "</div>"
      ],
      "text/plain": [
       "      y_test  y_pred\n",
       "2833       1       0\n",
       "2608       0       0\n",
       "1129       1       0\n",
       "293        1       0\n",
       "1659       0       0"
      ]
     },
     "execution_count": 122,
     "metadata": {},
     "output_type": "execute_result"
    }
   ],
   "source": [
    "results.head()"
   ]
  },
  {
   "cell_type": "markdown",
   "metadata": {},
   "source": [
    "## Scoring "
   ]
  },
  {
   "cell_type": "code",
   "execution_count": 123,
   "metadata": {
    "execution": {
     "iopub.execute_input": "2021-07-13T08:56:02.863178Z",
     "iopub.status.busy": "2021-07-13T08:56:02.862576Z",
     "iopub.status.idle": "2021-07-13T08:56:02.879683Z",
     "shell.execute_reply": "2021-07-13T08:56:02.878236Z",
     "shell.execute_reply.started": "2021-07-13T08:56:02.863134Z"
    }
   },
   "outputs": [
    {
     "data": {
      "text/plain": [
       "0.6327568667344863"
      ]
     },
     "execution_count": 123,
     "metadata": {},
     "output_type": "execute_result"
    }
   ],
   "source": [
    "accuracy_score(y_true=results[\"y_test\"], y_pred=results[\"y_pred\"])\n",
    "# Accuracy 0.68, Accuracy 2 0.63"
   ]
  },
  {
   "cell_type": "code",
   "execution_count": 124,
   "metadata": {
    "execution": {
     "iopub.execute_input": "2021-07-13T08:56:02.882012Z",
     "iopub.status.busy": "2021-07-13T08:56:02.881600Z",
     "iopub.status.idle": "2021-07-13T08:56:02.896786Z",
     "shell.execute_reply": "2021-07-13T08:56:02.895803Z",
     "shell.execute_reply.started": "2021-07-13T08:56:02.881975Z"
    }
   },
   "outputs": [
    {
     "data": {
      "text/plain": [
       "0.6647398843930635"
      ]
     },
     "execution_count": 124,
     "metadata": {},
     "output_type": "execute_result"
    }
   ],
   "source": [
    "precision_score(y_true=results[\"y_test\"], y_pred=results[\"y_pred\"])\n",
    "# Precision 0.65, Precision 0.66"
   ]
  },
  {
   "cell_type": "markdown",
   "metadata": {},
   "source": [
    "## Feature importance"
   ]
  },
  {
   "cell_type": "code",
   "execution_count": 125,
   "metadata": {
    "execution": {
     "iopub.execute_input": "2021-07-13T08:56:02.898738Z",
     "iopub.status.busy": "2021-07-13T08:56:02.898182Z",
     "iopub.status.idle": "2021-07-13T08:56:02.949996Z",
     "shell.execute_reply": "2021-07-13T08:56:02.948829Z",
     "shell.execute_reply.started": "2021-07-13T08:56:02.898692Z"
    }
   },
   "outputs": [
    {
     "data": {
      "text/plain": [
       "array([0.12797828, 0.12267733, 0.10996416, 0.1125849 , 0.10120065,\n",
       "       0.09334987, 0.09227885, 0.09540051, 0.14456545])"
      ]
     },
     "execution_count": 125,
     "metadata": {},
     "output_type": "execute_result"
    }
   ],
   "source": [
    "best_random.feature_importances_"
   ]
  },
  {
   "cell_type": "code",
   "execution_count": 126,
   "metadata": {
    "execution": {
     "iopub.execute_input": "2021-07-13T08:56:02.951727Z",
     "iopub.status.busy": "2021-07-13T08:56:02.951417Z",
     "iopub.status.idle": "2021-07-13T08:56:03.000905Z",
     "shell.execute_reply": "2021-07-13T08:56:02.999859Z",
     "shell.execute_reply.started": "2021-07-13T08:56:02.951695Z"
    }
   },
   "outputs": [],
   "source": [
    "feature_importances = pd.DataFrame(\n",
    "    best_random.feature_importances_, index=X_train.columns, columns=[\"importance\"]\n",
    ").sort_values(\"importance\", ascending=False)"
   ]
  },
  {
   "cell_type": "code",
   "execution_count": 127,
   "metadata": {
    "execution": {
     "iopub.execute_input": "2021-07-13T08:56:03.002630Z",
     "iopub.status.busy": "2021-07-13T08:56:03.002158Z",
     "iopub.status.idle": "2021-07-13T08:56:03.013895Z",
     "shell.execute_reply": "2021-07-13T08:56:03.012960Z",
     "shell.execute_reply.started": "2021-07-13T08:56:03.002592Z"
    }
   },
   "outputs": [
    {
     "data": {
      "text/html": [
       "<div>\n",
       "<style scoped>\n",
       "    .dataframe tbody tr th:only-of-type {\n",
       "        vertical-align: middle;\n",
       "    }\n",
       "\n",
       "    .dataframe tbody tr th {\n",
       "        vertical-align: top;\n",
       "    }\n",
       "\n",
       "    .dataframe thead th {\n",
       "        text-align: right;\n",
       "    }\n",
       "</style>\n",
       "<table border=\"1\" class=\"dataframe\">\n",
       "  <thead>\n",
       "    <tr style=\"text-align: right;\">\n",
       "      <th></th>\n",
       "      <th>importance</th>\n",
       "    </tr>\n",
       "  </thead>\n",
       "  <tbody>\n",
       "    <tr>\n",
       "      <th>Sulfate</th>\n",
       "      <td>0.144565</td>\n",
       "    </tr>\n",
       "    <tr>\n",
       "      <th>ph</th>\n",
       "      <td>0.127978</td>\n",
       "    </tr>\n",
       "    <tr>\n",
       "      <th>Hardness</th>\n",
       "      <td>0.122677</td>\n",
       "    </tr>\n",
       "    <tr>\n",
       "      <th>Chloramines</th>\n",
       "      <td>0.112585</td>\n",
       "    </tr>\n",
       "    <tr>\n",
       "      <th>Solids</th>\n",
       "      <td>0.109964</td>\n",
       "    </tr>\n",
       "    <tr>\n",
       "      <th>Conductivity</th>\n",
       "      <td>0.101201</td>\n",
       "    </tr>\n",
       "    <tr>\n",
       "      <th>Turbidity</th>\n",
       "      <td>0.095401</td>\n",
       "    </tr>\n",
       "    <tr>\n",
       "      <th>Organic_carbon</th>\n",
       "      <td>0.093350</td>\n",
       "    </tr>\n",
       "    <tr>\n",
       "      <th>Trihalomethanes</th>\n",
       "      <td>0.092279</td>\n",
       "    </tr>\n",
       "  </tbody>\n",
       "</table>\n",
       "</div>"
      ],
      "text/plain": [
       "                 importance\n",
       "Sulfate            0.144565\n",
       "ph                 0.127978\n",
       "Hardness           0.122677\n",
       "Chloramines        0.112585\n",
       "Solids             0.109964\n",
       "Conductivity       0.101201\n",
       "Turbidity          0.095401\n",
       "Organic_carbon     0.093350\n",
       "Trihalomethanes    0.092279"
      ]
     },
     "execution_count": 127,
     "metadata": {},
     "output_type": "execute_result"
    }
   ],
   "source": [
    "feature_importances.head(10)\n",
    "# Hardness, ph, Sulfate the most important according to Random Forest feature importance"
   ]
  },
  {
   "cell_type": "markdown",
   "metadata": {},
   "source": [
    "## Most important parameters - SHAP Values"
   ]
  },
  {
   "cell_type": "code",
   "execution_count": 128,
   "metadata": {
    "execution": {
     "iopub.execute_input": "2021-07-13T08:56:03.015947Z",
     "iopub.status.busy": "2021-07-13T08:56:03.015552Z",
     "iopub.status.idle": "2021-07-13T08:59:19.830040Z",
     "shell.execute_reply": "2021-07-13T08:59:19.828931Z",
     "shell.execute_reply.started": "2021-07-13T08:56:03.015905Z"
    }
   },
   "outputs": [],
   "source": [
    "explainer = shap.TreeExplainer(best_random)\n",
    "shap_values = explainer.shap_values(X)"
   ]
  },
  {
   "cell_type": "code",
   "execution_count": 129,
   "metadata": {
    "execution": {
     "iopub.execute_input": "2021-07-13T08:59:19.831958Z",
     "iopub.status.busy": "2021-07-13T08:59:19.831609Z",
     "iopub.status.idle": "2021-07-13T08:59:20.124860Z",
     "shell.execute_reply": "2021-07-13T08:59:20.123800Z",
     "shell.execute_reply.started": "2021-07-13T08:59:19.831923Z"
    }
   },
   "outputs": [
    {
     "data": {
      "image/png": "[encoded data removed]",
      "text/plain": [
       "<Figure size 576x367.2 with 1 Axes>"
      ]
     },
     "metadata": {
      "needs_background": "light"
     },
     "output_type": "display_data"
    }
   ],
   "source": [
    "shap.summary_plot(shap_values, X, plot_type=\"bar\")  # mean importance\n",
    "# Sulfate, ph, hardness the most important for both classes according to SHAP Values"
   ]
  },
  {
   "cell_type": "markdown",
   "metadata": {},
   "source": [
    "Sulfate has 781 (23.8%) missing values and is the most important feature according to Shap Values, therefore data imputting technique is very important and has influence on accuracy and precision. "
   ]
  }
 ],
 "metadata": {
  "kernelspec": {
   "display_name": "Python 3 (ipykernel)",
   "language": "python",
   "name": "python3"
  },
  "language_info": {
   "codemirror_mode": {
    "name": "ipython",
    "version": 3
   },
   "file_extension": ".py",
   "mimetype": "text/x-python",
   "name": "python",
   "nbconvert_exporter": "python",
   "pygments_lexer": "ipython3",
   "version": "3.8.5"
  }
 },
 "nbformat": 4,
 "nbformat_minor": 4
}
